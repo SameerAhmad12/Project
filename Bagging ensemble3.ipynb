{
 "cells": [
  {
   "cell_type": "markdown",
   "metadata": {
    "colab_type": "text",
    "id": "J0GxSEdJD27O"
   },
   "source": [
    "# Ensemble learning (bagging)"
   ]
  },
  {
   "cell_type": "code",
   "execution_count": 1,
   "metadata": {
    "colab": {},
    "colab_type": "code",
    "id": "m61c7f3MD27P"
   },
   "outputs": [],
   "source": [
    "import re\n",
    "import pandas as pd \n",
    "import numpy as np \n",
    "import matplotlib.pyplot as plt \n",
    "import seaborn as sns\n",
    "import string\n",
    "from wordcloud import WordCloud\n",
    "import nltk\n",
    "import warnings \n",
    "warnings.filterwarnings(\"ignore\", category=DeprecationWarning)\n",
    "\n",
    "%matplotlib inline"
   ]
  },
  {
   "cell_type": "markdown",
   "metadata": {
    "colab_type": "text",
    "id": "bcsbFeDQD27T"
   },
   "source": [
    "# reading data"
   ]
  },
  {
   "cell_type": "code",
   "execution_count": 2,
   "metadata": {
    "colab": {},
    "colab_type": "code",
    "id": "H-nqbGacD27U"
   },
   "outputs": [],
   "source": [
    "train  = pd.read_csv('2TwitterDataset250k.csv')\n"
   ]
  },
  {
   "cell_type": "code",
   "execution_count": 3,
   "metadata": {
    "colab": {
     "base_uri": "https://localhost:8080/",
     "height": 419
    },
    "colab_type": "code",
    "id": "BvK6TUQbD27X",
    "outputId": "66d8496e-586b-487f-ce38-1094b1632ed1"
   },
   "outputs": [
    {
     "data": {
      "text/html": [
       "<div>\n",
       "<style scoped>\n",
       "    .dataframe tbody tr th:only-of-type {\n",
       "        vertical-align: middle;\n",
       "    }\n",
       "\n",
       "    .dataframe tbody tr th {\n",
       "        vertical-align: top;\n",
       "    }\n",
       "\n",
       "    .dataframe thead th {\n",
       "        text-align: right;\n",
       "    }\n",
       "</style>\n",
       "<table border=\"1\" class=\"dataframe\">\n",
       "  <thead>\n",
       "    <tr style=\"text-align: right;\">\n",
       "      <th></th>\n",
       "      <th>Tweet</th>\n",
       "      <th>Label</th>\n",
       "    </tr>\n",
       "  </thead>\n",
       "  <tbody>\n",
       "    <tr>\n",
       "      <th>0</th>\n",
       "      <td>@darthrosenburg OMH.  I'm so sorry to hear tha...</td>\n",
       "      <td>0</td>\n",
       "    </tr>\n",
       "    <tr>\n",
       "      <th>1</th>\n",
       "      <td>@helloimmiranda ...i resized it though</td>\n",
       "      <td>0</td>\n",
       "    </tr>\n",
       "    <tr>\n",
       "      <th>2</th>\n",
       "      <td>gotta wait till tomorrow to see the new moon t...</td>\n",
       "      <td>0</td>\n",
       "    </tr>\n",
       "    <tr>\n",
       "      <th>3</th>\n",
       "      <td>Dumb Fox announcers were saying Jeff was OK an...</td>\n",
       "      <td>0</td>\n",
       "    </tr>\n",
       "    <tr>\n",
       "      <th>4</th>\n",
       "      <td>All these BBQ's means I'm basically living on ...</td>\n",
       "      <td>0</td>\n",
       "    </tr>\n",
       "    <tr>\n",
       "      <th>...</th>\n",
       "      <td>...</td>\n",
       "      <td>...</td>\n",
       "    </tr>\n",
       "    <tr>\n",
       "      <th>249995</th>\n",
       "      <td>@MizFitOnline seriously! I had more free time ...</td>\n",
       "      <td>1</td>\n",
       "    </tr>\n",
       "    <tr>\n",
       "      <th>249996</th>\n",
       "      <td>Maybe if no one bothered revising then that'll...</td>\n",
       "      <td>1</td>\n",
       "    </tr>\n",
       "    <tr>\n",
       "      <th>249997</th>\n",
       "      <td>@missbossy good to know you're feeling better..</td>\n",
       "      <td>1</td>\n",
       "    </tr>\n",
       "    <tr>\n",
       "      <th>249998</th>\n",
       "      <td>@trohman it is  #andyhurleyday #andyhurleyday ...</td>\n",
       "      <td>1</td>\n",
       "    </tr>\n",
       "    <tr>\n",
       "      <th>249999</th>\n",
       "      <td>Morning.  Kids slept in Til 7:45am!!  Praise G...</td>\n",
       "      <td>1</td>\n",
       "    </tr>\n",
       "  </tbody>\n",
       "</table>\n",
       "<p>250000 rows × 2 columns</p>\n",
       "</div>"
      ],
      "text/plain": [
       "                                                    Tweet  Label\n",
       "0       @darthrosenburg OMH.  I'm so sorry to hear tha...      0\n",
       "1                 @helloimmiranda ...i resized it though       0\n",
       "2       gotta wait till tomorrow to see the new moon t...      0\n",
       "3       Dumb Fox announcers were saying Jeff was OK an...      0\n",
       "4       All these BBQ's means I'm basically living on ...      0\n",
       "...                                                   ...    ...\n",
       "249995  @MizFitOnline seriously! I had more free time ...      1\n",
       "249996  Maybe if no one bothered revising then that'll...      1\n",
       "249997   @missbossy good to know you're feeling better..       1\n",
       "249998  @trohman it is  #andyhurleyday #andyhurleyday ...      1\n",
       "249999  Morning.  Kids slept in Til 7:45am!!  Praise G...      1\n",
       "\n",
       "[250000 rows x 2 columns]"
      ]
     },
     "execution_count": 3,
     "metadata": {},
     "output_type": "execute_result"
    }
   ],
   "source": [
    "train"
   ]
  },
  {
   "cell_type": "markdown",
   "metadata": {
    "colab_type": "text",
    "id": "Bkwv_i5eD27b"
   },
   "source": [
    "# Removing Twitter Handles (@user)"
   ]
  },
  {
   "cell_type": "code",
   "execution_count": 4,
   "metadata": {
    "colab": {},
    "colab_type": "code",
    "id": "FYeSNadPD27c"
   },
   "outputs": [],
   "source": [
    "def remove_pattern(input_txt, pattern):\n",
    "    r = re.findall(pattern, input_txt)\n",
    "    for i in r:\n",
    "        input_txt = re.sub(i, '', input_txt)\n",
    "        \n",
    "    return input_txt \n",
    "# remove twitter handles (@user)\n",
    "train['tidy_tweet'] = np.vectorize(remove_pattern)(train['Tweet'], \"@[\\w]*\")"
   ]
  },
  {
   "cell_type": "code",
   "execution_count": 5,
   "metadata": {
    "colab": {
     "base_uri": "https://localhost:8080/",
     "height": 221
    },
    "colab_type": "code",
    "id": "1YhlyRXBD27g",
    "outputId": "3a996c6a-31da-454a-b539-d8f01b2daa10"
   },
   "outputs": [
    {
     "data": {
      "text/plain": [
       "0                        OMH.  I'm so sorry to hear that   \n",
       "1                                   ...i resized it though \n",
       "2         gotta wait till tomorrow to see the new moon t...\n",
       "3         Dumb Fox announcers were saying Jeff was OK an...\n",
       "4         All these BBQ's means I'm basically living on ...\n",
       "                                ...                        \n",
       "249995     seriously! I had more free time when I worked...\n",
       "249996    Maybe if no one bothered revising then that'll...\n",
       "249997                good to know you're feeling better.. \n",
       "249998     it is  #andyhurleyday #andyhurleyday #andyhur...\n",
       "249999    Morning.  Kids slept in Til 7:45am!!  Praise G...\n",
       "Name: tidy_tweet, Length: 250000, dtype: object"
      ]
     },
     "execution_count": 5,
     "metadata": {},
     "output_type": "execute_result"
    }
   ],
   "source": [
    "train['tidy_tweet']"
   ]
  },
  {
   "cell_type": "markdown",
   "metadata": {
    "colab_type": "text",
    "id": "rYIB27D5D27k"
   },
   "source": [
    "# remove special characters, numbers, punctuations"
   ]
  },
  {
   "cell_type": "code",
   "execution_count": 6,
   "metadata": {
    "colab": {},
    "colab_type": "code",
    "id": "RSaEVsD4D27l"
   },
   "outputs": [],
   "source": [
    "# remove special characters, numbers, punctuations\n",
    "train['tidy_tweet'] = train['tidy_tweet'].str.replace(\"[^a-zA-Z]\", \" \")"
   ]
  },
  {
   "cell_type": "code",
   "execution_count": 7,
   "metadata": {
    "colab": {},
    "colab_type": "code",
    "id": "-KTGaw2bD27p"
   },
   "outputs": [],
   "source": [
    "train['tidy_tweet'] = train['tidy_tweet'].apply(lambda x: ' '.join([w for w in x.split() if len(w)>3]))"
   ]
  },
  {
   "cell_type": "markdown",
   "metadata": {
    "colab_type": "text",
    "id": "B9XyFN_lD27r"
   },
   "source": [
    "# tokenisation "
   ]
  },
  {
   "cell_type": "code",
   "execution_count": 8,
   "metadata": {
    "colab": {
     "base_uri": "https://localhost:8080/",
     "height": 119
    },
    "colab_type": "code",
    "id": "W9jgiq0ID27s",
    "outputId": "e3286c12-c2fe-4f32-fb23-192e7ddf389d",
    "scrolled": true
   },
   "outputs": [
    {
     "data": {
      "text/plain": [
       "249995    [seriously, more, free, time, when, worked, of...\n",
       "249996        [Maybe, bothered, revising, then, that, help]\n",
       "249997                        [good, know, feeling, better]\n",
       "249998    [andyhurleyday, andyhurleyday, andyhurleyday, ...\n",
       "249999    [Morning, Kids, slept, Praise, Went, sleep, Ee...\n",
       "Name: tidy_tweet, dtype: object"
      ]
     },
     "execution_count": 8,
     "metadata": {},
     "output_type": "execute_result"
    }
   ],
   "source": [
    "tokenized_tweet1 = train['tidy_tweet'].apply(lambda x: x.split())\n",
    "tokenized_tweet1.tail()"
   ]
  },
  {
   "cell_type": "markdown",
   "metadata": {
    "colab_type": "text",
    "id": "u6C46m9PD27u"
   },
   "source": [
    "# stemning"
   ]
  },
  {
   "cell_type": "code",
   "execution_count": 9,
   "metadata": {
    "colab": {
     "base_uri": "https://localhost:8080/",
     "height": 119
    },
    "colab_type": "code",
    "id": "O2troDCvD27v",
    "outputId": "3e8d1747-466c-4a10-985f-2892d7977a50"
   },
   "outputs": [
    {
     "data": {
      "text/plain": [
       "249995    [serious, more, free, time, when, work, offic,...\n",
       "249996              [mayb, bother, revis, then, that, help]\n",
       "249997                           [good, know, feel, better]\n",
       "249998    [andyhurleyday, andyhurleyday, andyhurleyday, ...\n",
       "249999    [morn, kid, slept, prais, went, sleep, eeeek, ...\n",
       "Name: tidy_tweet, dtype: object"
      ]
     },
     "execution_count": 9,
     "metadata": {},
     "output_type": "execute_result"
    }
   ],
   "source": [
    "from nltk.stem.porter import *\n",
    "stemmer = PorterStemmer()\n",
    "\n",
    "tokenized_tweet1 = tokenized_tweet1.apply(lambda x: [stemmer.stem(i) for i in x]) # stemming\n",
    "tokenized_tweet1.tail()"
   ]
  },
  {
   "cell_type": "code",
   "execution_count": 10,
   "metadata": {
    "colab": {},
    "colab_type": "code",
    "id": "fbpx4_zkD27x"
   },
   "outputs": [],
   "source": [
    "for i in range(len(tokenized_tweet1)):\n",
    "    tokenized_tweet1[i] = ' '.join(tokenized_tweet1[i])\n",
    "\n",
    "train['tidy_tweet'] = tokenized_tweet1"
   ]
  },
  {
   "cell_type": "code",
   "execution_count": 11,
   "metadata": {
    "colab": {
     "base_uri": "https://localhost:8080/",
     "height": 204
    },
    "colab_type": "code",
    "id": "DmqiUDuND270",
    "outputId": "c19b48e9-046e-4562-9f62-f2a3b2270423"
   },
   "outputs": [
    {
     "data": {
      "text/html": [
       "<div>\n",
       "<style scoped>\n",
       "    .dataframe tbody tr th:only-of-type {\n",
       "        vertical-align: middle;\n",
       "    }\n",
       "\n",
       "    .dataframe tbody tr th {\n",
       "        vertical-align: top;\n",
       "    }\n",
       "\n",
       "    .dataframe thead th {\n",
       "        text-align: right;\n",
       "    }\n",
       "</style>\n",
       "<table border=\"1\" class=\"dataframe\">\n",
       "  <thead>\n",
       "    <tr style=\"text-align: right;\">\n",
       "      <th></th>\n",
       "      <th>Tweet</th>\n",
       "      <th>Label</th>\n",
       "      <th>tidy_tweet</th>\n",
       "    </tr>\n",
       "  </thead>\n",
       "  <tbody>\n",
       "    <tr>\n",
       "      <th>249995</th>\n",
       "      <td>@MizFitOnline seriously! I had more free time ...</td>\n",
       "      <td>1</td>\n",
       "      <td>serious more free time when work offic week ju...</td>\n",
       "    </tr>\n",
       "    <tr>\n",
       "      <th>249996</th>\n",
       "      <td>Maybe if no one bothered revising then that'll...</td>\n",
       "      <td>1</td>\n",
       "      <td>mayb bother revis then that help</td>\n",
       "    </tr>\n",
       "    <tr>\n",
       "      <th>249997</th>\n",
       "      <td>@missbossy good to know you're feeling better..</td>\n",
       "      <td>1</td>\n",
       "      <td>good know feel better</td>\n",
       "    </tr>\n",
       "    <tr>\n",
       "      <th>249998</th>\n",
       "      <td>@trohman it is  #andyhurleyday #andyhurleyday ...</td>\n",
       "      <td>1</td>\n",
       "      <td>andyhurleyday andyhurleyday andyhurleyday andy...</td>\n",
       "    </tr>\n",
       "    <tr>\n",
       "      <th>249999</th>\n",
       "      <td>Morning.  Kids slept in Til 7:45am!!  Praise G...</td>\n",
       "      <td>1</td>\n",
       "      <td>morn kid slept prais went sleep eeeek suuuuper...</td>\n",
       "    </tr>\n",
       "  </tbody>\n",
       "</table>\n",
       "</div>"
      ],
      "text/plain": [
       "                                                    Tweet  Label  \\\n",
       "249995  @MizFitOnline seriously! I had more free time ...      1   \n",
       "249996  Maybe if no one bothered revising then that'll...      1   \n",
       "249997   @missbossy good to know you're feeling better..       1   \n",
       "249998  @trohman it is  #andyhurleyday #andyhurleyday ...      1   \n",
       "249999  Morning.  Kids slept in Til 7:45am!!  Praise G...      1   \n",
       "\n",
       "                                               tidy_tweet  \n",
       "249995  serious more free time when work offic week ju...  \n",
       "249996                   mayb bother revis then that help  \n",
       "249997                              good know feel better  \n",
       "249998  andyhurleyday andyhurleyday andyhurleyday andy...  \n",
       "249999  morn kid slept prais went sleep eeeek suuuuper...  "
      ]
     },
     "execution_count": 11,
     "metadata": {},
     "output_type": "execute_result"
    }
   ],
   "source": [
    "train.tail()"
   ]
  },
  {
   "cell_type": "markdown",
   "metadata": {
    "colab_type": "text",
    "id": "u_H1w4d8D276"
   },
   "source": [
    "# TF-IDF Features"
   ]
  },
  {
   "cell_type": "code",
   "execution_count": 12,
   "metadata": {
    "colab": {},
    "colab_type": "code",
    "id": "kL1ogn0RD277"
   },
   "outputs": [],
   "source": [
    "X = train['tidy_tweet']\n",
    "y = train['Label']"
   ]
  },
  {
   "cell_type": "code",
   "execution_count": 13,
   "metadata": {
    "colab": {},
    "colab_type": "code",
    "id": "rcMCwkj0D27_"
   },
   "outputs": [],
   "source": [
    "#Importing TFIDF \n",
    "from sklearn.feature_extraction.text import TfidfVectorizer, CountVectorizer\n",
    "tfidf = TfidfVectorizer(max_df=0.90, min_df=3, max_features=25000, stop_words='english')"
   ]
  },
  {
   "cell_type": "code",
   "execution_count": 14,
   "metadata": {
    "colab": {},
    "colab_type": "code",
    "id": "_T0JzyGHD28D"
   },
   "outputs": [],
   "source": [
    "#Fitting TFIDF to both training and test\n",
    "x_train_tfidf =  tfidf.fit_transform(X) \n"
   ]
  },
  {
   "cell_type": "markdown",
   "metadata": {},
   "source": [
    "# Base Model LogisticRegression"
   ]
  },
  {
   "cell_type": "code",
   "execution_count": 19,
   "metadata": {
    "colab": {
     "base_uri": "https://localhost:8080/",
     "height": 615
    },
    "colab_type": "code",
    "id": "xhL5vxaqD28L",
    "outputId": "6d1fa7ca-86eb-49eb-e201-b9f5f3cb5b57",
    "scrolled": true
   },
   "outputs": [
    {
     "name": "stdout",
     "output_type": "stream",
     "text": [
      "\n",
      "1 of kfold 10\n",
      "f1_score 0.7727912431587176\n",
      "\n",
      "2 of kfold 10\n",
      "f1_score 0.772265625\n",
      "\n",
      "3 of kfold 10\n",
      "f1_score 0.7661980680122517\n",
      "\n",
      "4 of kfold 10\n",
      "f1_score 0.7671660424469414\n",
      "\n",
      "5 of kfold 10\n",
      "f1_score 0.7655910642258764\n",
      "\n",
      "6 of kfold 10\n",
      "f1_score 0.7648346493628333\n",
      "\n",
      "7 of kfold 10\n",
      "f1_score 0.7694581664008712\n",
      "\n",
      "8 of kfold 10\n",
      "f1_score 0.7640361516491255\n",
      "\n",
      "9 of kfold 10\n",
      "f1_score 0.7670590075470222\n",
      "\n",
      "10 of kfold 10\n",
      "f1_score 0.7686913156971988\n",
      "Execution time: 10.402401546637217 min\n",
      "[0.7727912431587176, 0.772265625, 0.7661980680122517, 0.7671660424469414, 0.7655910642258764, 0.7648346493628333, 0.7694581664008712, 0.7640361516491255, 0.7670590075470222, 0.7686913156971988] \n",
      " Max F1-Score 0.7727912431587176 \n",
      " Mean F1-Score 0.7678091333500838\n"
     ]
    }
   ],
   "source": [
    "from sklearn.linear_model import LogisticRegression\n",
    "from sklearn.ensemble import BaggingClassifier\n",
    "\n",
    "from sklearn.model_selection import StratifiedKFold, RandomizedSearchCV\n",
    "from sklearn.metrics import roc_auc_score, f1_score, confusion_matrix, classification_report\n",
    "import time\n",
    "start_time = time.time()\n",
    "\n",
    "i=1\n",
    "f1=[]\n",
    "kf = StratifiedKFold(n_splits=10,random_state=42,shuffle=True)\n",
    "for train_index,test_index in kf.split(x_train_tfidf,y):\n",
    "    print('\\n{} of kfold {}'.format(i,kf.n_splits))\n",
    "    xtr,xvl = x_train_tfidf[train_index],x_train_tfidf[test_index]\n",
    "    ytr,yvl = y[train_index],y[test_index]\n",
    "    \n",
    "    model = BaggingClassifier(base_estimator=LogisticRegression(max_iter=1000,))\n",
    "    model.fit(xtr, ytr)\n",
    "    pred=model.predict(xvl)\n",
    "    f=f1_score(yvl,pred)\n",
    "    print(\"f1_score\",f)\n",
    "    f1.append(f)\n",
    "    i+=1\n",
    "print(\"Execution time: \" + str((time.time() - start_time)/60) + ' min')\n",
    "from numpy import mean\n",
    "print(f'{f1} \\n Max F1-Score {max(f1)} \\n Mean F1-Score {mean(f1)}')\n"
   ]
  },
  {
   "cell_type": "markdown",
   "metadata": {},
   "source": [
    "# Base Model Decision Tree"
   ]
  },
  {
   "cell_type": "code",
   "execution_count": 18,
   "metadata": {
    "colab": {
     "base_uri": "https://localhost:8080/",
     "height": 51
    },
    "colab_type": "code",
    "id": "8OfCprK5D28I",
    "outputId": "ff9d28d4-7ddd-41fd-a4aa-d653333fbacb"
   },
   "outputs": [
    {
     "name": "stdout",
     "output_type": "stream",
     "text": [
      "\n",
      "1 of kfold 10\n",
      "f1_score 0.7277289836888331\n",
      "\n",
      "2 of kfold 10\n",
      "f1_score 0.7226473461413221\n",
      "\n",
      "3 of kfold 10\n",
      "f1_score 0.7200229254513448\n",
      "\n",
      "4 of kfold 10\n",
      "f1_score 0.716602820115739\n",
      "\n",
      "5 of kfold 10\n",
      "f1_score 0.7230012894906512\n",
      "\n",
      "6 of kfold 10\n",
      "f1_score 0.7197632944228274\n",
      "\n",
      "7 of kfold 10\n",
      "f1_score 0.7256543651438792\n",
      "\n",
      "8 of kfold 10\n",
      "f1_score 0.7187129966110001\n",
      "\n",
      "9 of kfold 10\n",
      "f1_score 0.7264246603123099\n",
      "\n",
      "10 of kfold 10\n",
      "f1_score 0.7274570223807979\n",
      "Execution time: 207.31587549448014 miin\n",
      "[0.7277289836888331, 0.7226473461413221, 0.7200229254513448, 0.716602820115739, 0.7230012894906512, 0.7197632944228274, 0.7256543651438792, 0.7187129966110001, 0.7264246603123099, 0.7274570223807979] \n",
      " Max F1-Score 0.7277289836888331 \n",
      " Mean F1-Score 0.7228015703758705\n"
     ]
    }
   ],
   "source": [
    "from sklearn.ensemble import BaggingClassifier\n",
    "from sklearn.tree import DecisionTreeClassifier\n",
    "from sklearn.model_selection import StratifiedKFold\n",
    "from sklearn.metrics import roc_auc_score, f1_score, confusion_matrix, classification_report\n",
    "import time\n",
    "start_time = time.time()\n",
    "\n",
    "i=1\n",
    "f1=[]\n",
    "kf = StratifiedKFold(n_splits=10,random_state=42,shuffle=True)\n",
    "for train_index,test_index in kf.split(x_train_tfidf,y):\n",
    "    print('\\n{} of kfold {}'.format(i,kf.n_splits))\n",
    "    xtr,xvl = x_train_tfidf[train_index],x_train_tfidf[test_index]\n",
    "    ytr,yvl = y[train_index],y[test_index]\n",
    "    \n",
    "    model = BaggingClassifier(DecisionTreeClassifier())\n",
    "    model.fit(xtr, ytr)\n",
    "    pred=model.predict(xvl)\n",
    "    f=f1_score(yvl,pred)\n",
    "    print(\"f1_score\",f)\n",
    "    f1.append(f)\n",
    "    i+=1\n",
    "print(\"Execution time: \" + str((time.time() - start_time)/60) + ' miin')\n",
    "from numpy import mean\n",
    "print(f'{f1} \\n Max F1-Score {max(f1)} \\n Mean F1-Score {mean(f1)}')\n"
   ]
  },
  {
   "cell_type": "markdown",
   "metadata": {},
   "source": [
    "# Base Model Naive bayes"
   ]
  },
  {
   "cell_type": "code",
   "execution_count": 18,
   "metadata": {
    "colab": {
     "base_uri": "https://localhost:8080/",
     "height": 615
    },
    "colab_type": "code",
    "id": "2NfdJUe7D28O",
    "outputId": "fe6bd4f4-c9d6-45ef-dff4-22b7b3f5b63f"
   },
   "outputs": [
    {
     "name": "stdout",
     "output_type": "stream",
     "text": [
      "\n",
      "1 of kfold 10\n",
      "f1_score 0.7584078499643904\n",
      "\n",
      "2 of kfold 10\n",
      "f1_score 0.7590342307997777\n",
      "\n",
      "3 of kfold 10\n",
      "f1_score 0.7425169235788271\n",
      "\n",
      "4 of kfold 10\n",
      "f1_score 0.7539773854393969\n",
      "\n",
      "5 of kfold 10\n",
      "f1_score 0.7448453608247423\n",
      "\n",
      "6 of kfold 10\n",
      "f1_score 0.7418046088932165\n",
      "\n",
      "7 of kfold 10\n",
      "f1_score 0.7515722026658228\n",
      "\n",
      "8 of kfold 10\n",
      "f1_score 0.7494035310959122\n",
      "\n",
      "9 of kfold 10\n",
      "f1_score 0.7522556540403037\n",
      "\n",
      "10 of kfold 10\n",
      "f1_score 0.7545071876737351\n",
      "Execution time: 0.1309056043624878 min\n",
      "[0.7584078499643904, 0.7590342307997777, 0.7425169235788271, 0.7539773854393969, 0.7448453608247423, 0.7418046088932165, 0.7515722026658228, 0.7494035310959122, 0.7522556540403037, 0.7545071876737351] \n",
      " Max F1-Score 0.7590342307997777 \n",
      " Mean F1-Score 0.7508324934976125\n"
     ]
    }
   ],
   "source": [
    "from sklearn.naive_bayes import MultinomialNB \n",
    "from sklearn.ensemble import BaggingClassifier \n",
    "\n",
    "from sklearn.model_selection import StratifiedKFold\n",
    "from sklearn.metrics import roc_auc_score, f1_score, confusion_matrix, classification_report\n",
    "import time\n",
    "start_time = time.time()\n",
    "\n",
    "i=1\n",
    "f1=[]\n",
    "kf = StratifiedKFold(n_splits=10,random_state=42,shuffle=True)\n",
    "for train_index,test_index in kf.split(x_train_tfidf,y):\n",
    "    print('\\n{} of kfold {}'.format(i,kf.n_splits))\n",
    "    xtr,xvl = x_train_tfidf[train_index],x_train_tfidf[test_index]\n",
    "    ytr,yvl = y[train_index],y[test_index]\n",
    "    \n",
    "    model = BaggingClassifier(base_estimator=MultinomialNB())\n",
    "    model.fit(xtr, ytr)\n",
    "    pred=model.predict(xvl)\n",
    "    f=f1_score(yvl,pred)\n",
    "    print(\"f1_score\",f)\n",
    "    f1.append(f)\n",
    "    i+=1\n",
    "print(\"Execution time: \" + str((time.time() - start_time)/60) + ' min')\n",
    "from numpy import mean\n",
    "print(f'{f1} \\n Max F1-Score {max(f1)} \\n Mean F1-Score {mean(f1)}')"
   ]
  },
  {
   "cell_type": "markdown",
   "metadata": {},
   "source": [
    "# Base Model SVM\n"
   ]
  },
  {
   "cell_type": "code",
   "execution_count": 16,
   "metadata": {
    "scrolled": true
   },
   "outputs": [
    {
     "name": "stdout",
     "output_type": "stream",
     "text": [
      "\n",
      "1 of kfold 10\n",
      "f1_score 0.7628035538005923\n",
      "\n",
      "2 of kfold 10\n",
      "f1_score 0.7602821142721293\n",
      "\n",
      "3 of kfold 10\n",
      "f1_score 0.7529796308845218\n",
      "\n",
      "4 of kfold 10\n",
      "f1_score 0.7549548121135246\n",
      "\n",
      "5 of kfold 10\n",
      "f1_score 0.7541254125412541\n",
      "\n",
      "6 of kfold 10\n",
      "f1_score 0.7543011178942362\n",
      "\n",
      "7 of kfold 10\n",
      "f1_score 0.7559297912713472\n",
      "\n",
      "8 of kfold 10\n",
      "f1_score 0.7528888535917087\n",
      "\n",
      "9 of kfold 10\n",
      "f1_score 0.7559248269040554\n",
      "\n",
      "10 of kfold 10\n",
      "f1_score 0.7580320094842915\n",
      "Execution time: 16.59644770224889 min\n",
      "[0.7628035538005923, 0.7602821142721293, 0.7529796308845218, 0.7549548121135246, 0.7541254125412541, 0.7543011178942362, 0.7559297912713472, 0.7528888535917087, 0.7559248269040554, 0.7580320094842915] \n",
      " Max F1-Score 0.7628035538005923 \n",
      " Mean F1-Score 0.7562222122757662\n"
     ]
    }
   ],
   "source": [
    "from sklearn.ensemble import BaggingClassifier \n",
    "from sklearn.svm import LinearSVC\n",
    "from sklearn.model_selection import StratifiedKFold\n",
    "from sklearn.metrics import roc_auc_score, f1_score, confusion_matrix, classification_report\n",
    "import time\n",
    "start_time = time.time()\n",
    "\n",
    "i=1\n",
    "f1=[]\n",
    "kf = StratifiedKFold(n_splits=10,random_state=42,shuffle=True)\n",
    "for train_index,test_index in kf.split(x_train_tfidf,y):\n",
    "    print('\\n{} of kfold {}'.format(i,kf.n_splits))\n",
    "    xtr,xvl = x_train_tfidf[train_index],x_train_tfidf[test_index]\n",
    "    ytr,yvl = y[train_index],y[test_index]\n",
    "    \n",
    "    model = BaggingClassifier(base_estimator=LinearSVC())\n",
    "    model.fit(xtr, ytr)\n",
    "    pred=model.predict(xvl)\n",
    "    f=f1_score(yvl,pred)\n",
    "    print(\"f1_score\",f)\n",
    "    f1.append(f)\n",
    "    i+=1\n",
    "print(\"Execution time: \" + str((time.time() - start_time)/60) + ' min')\n",
    "from numpy import mean\n",
    "print(f'{f1} \\n Max F1-Score {max(f1)} \\n Mean F1-Score {mean(f1)}')\n"
   ]
  },
  {
   "cell_type": "markdown",
   "metadata": {},
   "source": [
    "# Base Model KNN"
   ]
  },
  {
   "cell_type": "code",
   "execution_count": 15,
   "metadata": {
    "colab": {},
    "colab_type": "code",
    "id": "-iBd4ZsMESB5",
    "scrolled": true
   },
   "outputs": [
    {
     "name": "stdout",
     "output_type": "stream",
     "text": [
      "\n",
      "1 of kfold 10\n",
      "f1_score 0.696564220503171\n",
      "\n",
      "2 of kfold 10\n",
      "f1_score 0.6965697346132128\n",
      "\n",
      "3 of kfold 10\n",
      "f1_score 0.6940348173316053\n",
      "\n",
      "4 of kfold 10\n",
      "f1_score 0.6971061542220826\n",
      "\n",
      "5 of kfold 10\n",
      "f1_score 0.6923592256972603\n",
      "\n",
      "6 of kfold 10\n",
      "f1_score 0.6152962488401891\n",
      "\n",
      "7 of kfold 10\n",
      "f1_score 0.625130707563611\n",
      "\n",
      "8 of kfold 10\n",
      "f1_score 0.6148400513251625\n",
      "\n",
      "9 of kfold 10\n",
      "f1_score 0.7010569933630648\n",
      "\n",
      "10 of kfold 10\n",
      "f1_score 0.6249014281959169\n",
      "Execution time: 236.5935758392016 min\n",
      "[0.696564220503171, 0.6965697346132128, 0.6940348173316053, 0.6971061542220826, 0.6923592256972603, 0.6152962488401891, 0.625130707563611, 0.6148400513251625, 0.7010569933630648, 0.6249014281959169] \n",
      " Max F1-Score 0.7010569933630648 \n",
      " Mean F1-Score 0.6657859581655277\n"
     ]
    }
   ],
   "source": [
    "from sklearn.ensemble import BaggingClassifier \n",
    "from sklearn.neighbors import KNeighborsClassifier\n",
    "\n",
    "from sklearn.model_selection import StratifiedKFold\n",
    "from sklearn.metrics import roc_auc_score, f1_score, confusion_matrix, classification_report\n",
    "import time\n",
    "start_time = time.time()\n",
    "\n",
    "i=1\n",
    "f1=[]\n",
    "kf = StratifiedKFold(n_splits=10,random_state=42,shuffle=True)\n",
    "for train_index,test_index in kf.split(x_train_tfidf,y):\n",
    "    print('\\n{} of kfold {}'.format(i,kf.n_splits))\n",
    "    xtr,xvl = x_train_tfidf[train_index],x_train_tfidf[test_index]\n",
    "    ytr,yvl = y[train_index],y[test_index]\n",
    "    \n",
    "    model = BaggingClassifier(base_estimator=KNeighborsClassifier(3))\n",
    "    model.fit(xtr, ytr)\n",
    "    pred=model.predict(xvl)\n",
    "    f=f1_score(yvl,pred)\n",
    "    print(\"f1_score\",f)\n",
    "    f1.append(f)\n",
    "    i+=1\n",
    "print(\"Execution time: \" + str((time.time() - start_time)/60) + ' min')\n",
    "from numpy import mean\n",
    "print(f'{f1} \\n Max F1-Score {max(f1)} \\n Mean F1-Score {mean(f1)}')\n"
   ]
  },
  {
   "cell_type": "markdown",
   "metadata": {},
   "source": [
    "# Base Model Random Forest"
   ]
  },
  {
   "cell_type": "code",
   "execution_count": 16,
   "metadata": {
    "colab": {},
    "colab_type": "code",
    "id": "36EUEAUBD28R"
   },
   "outputs": [
    {
     "name": "stdout",
     "output_type": "stream",
     "text": [
      "\n",
      "1 of kfold 10\n",
      "f1_score 0.7556677049244964\n",
      "\n",
      "2 of kfold 10\n",
      "f1_score 0.7573922337014608\n",
      "\n",
      "3 of kfold 10\n",
      "f1_score 0.7490020756825803\n",
      "\n",
      "4 of kfold 10\n",
      "f1_score 0.753225168183617\n",
      "\n",
      "5 of kfold 10\n",
      "f1_score 0.754234956569587\n",
      "\n",
      "6 of kfold 10\n",
      "f1_score 0.7531288246673774\n",
      "\n",
      "7 of kfold 10\n",
      "f1_score 0.7528683155345588\n",
      "\n",
      "8 of kfold 10\n",
      "f1_score 0.7498313157372494\n",
      "\n",
      "9 of kfold 10\n",
      "f1_score 0.755879903224527\n",
      "\n",
      "10 of kfold 10\n",
      "f1_score 0.7559509687623567\n",
      "Execution time: 120.42282179196675 min\n",
      "[0.7556677049244964, 0.7573922337014608, 0.7490020756825803, 0.753225168183617, 0.754234956569587, 0.7531288246673774, 0.7528683155345588, 0.7498313157372494, 0.755879903224527, 0.7559509687623567] \n",
      " Max F1-Score 0.7573922337014608 \n",
      " Mean F1-Score 0.7537181466987811\n"
     ]
    }
   ],
   "source": [
    "from sklearn.ensemble import BaggingClassifier, RandomForestClassifier \n",
    "\n",
    "from sklearn.model_selection import StratifiedKFold\n",
    "from sklearn.metrics import roc_auc_score, f1_score, confusion_matrix, classification_report\n",
    "import time\n",
    "start_time = time.time()\n",
    "\n",
    "i=1\n",
    "f1=[]\n",
    "kf = StratifiedKFold(n_splits=10,random_state=42,shuffle=True)\n",
    "for train_index,test_index in kf.split(x_train_tfidf,y):\n",
    "    print('\\n{} of kfold {}'.format(i,kf.n_splits))\n",
    "    xtr,xvl = x_train_tfidf[train_index],x_train_tfidf[test_index]\n",
    "    ytr,yvl = y[train_index],y[test_index]\n",
    "    \n",
    "    model = BaggingClassifier(base_estimator=RandomForestClassifier(n_estimators=10))\n",
    "    model.fit(xtr, ytr)\n",
    "    pred=model.predict(xvl)\n",
    "    f=f1_score(yvl,pred)\n",
    "    print(\"f1_score\",f)\n",
    "    f1.append(f)\n",
    "    i+=1\n",
    "print(\"Execution time: \" + str((time.time() - start_time)/60) + ' min')\n",
    "from numpy import mean\n",
    "print(f'{f1} \\n Max F1-Score {max(f1)} \\n Mean F1-Score {mean(f1)}')\n"
   ]
  },
  {
   "cell_type": "code",
   "execution_count": null,
   "metadata": {},
   "outputs": [],
   "source": []
  }
 ],
 "metadata": {
  "colab": {
   "collapsed_sections": [],
   "name": "Copy of bagging.1 ensemble default .ipynb",
   "provenance": [],
   "toc_visible": true
  },
  "kernelspec": {
   "display_name": "Python 3",
   "language": "python",
   "name": "python3"
  },
  "language_info": {
   "codemirror_mode": {
    "name": "ipython",
    "version": 3
   },
   "file_extension": ".py",
   "mimetype": "text/x-python",
   "name": "python",
   "nbconvert_exporter": "python",
   "pygments_lexer": "ipython3",
   "version": "3.8.3"
  }
 },
 "nbformat": 4,
 "nbformat_minor": 1
}
