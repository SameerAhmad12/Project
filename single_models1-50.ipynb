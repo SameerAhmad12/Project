{
 "cells": [
  {
   "cell_type": "markdown",
   "metadata": {
    "colab_type": "text",
    "id": "bgChc3alHQjC"
   },
   "source": [
    "# Different machine learning models\n"
   ]
  },
  {
   "cell_type": "code",
   "execution_count": 4,
   "metadata": {
    "colab": {
     "base_uri": "https://localhost:8080/",
     "height": 71
    },
    "colab_type": "code",
    "id": "zj1aYorLHQjF",
    "outputId": "9558faf0-2dbc-443a-8d98-6b7d1076f4c6"
   },
   "outputs": [],
   "source": [
    "import re\n",
    "import pandas as pd \n",
    "import numpy as np \n",
    "import matplotlib.pyplot as plt \n",
    "import seaborn as sns\n",
    "import string\n",
    "import nltk\n",
    "import warnings \n",
    "warnings.filterwarnings(\"ignore\", category=DeprecationWarning)\n",
    "\n",
    "%matplotlib inline"
   ]
  },
  {
   "cell_type": "code",
   "execution_count": null,
   "metadata": {
    "colab": {},
    "colab_type": "code",
    "id": "xu58CY5yIFIk"
   },
   "outputs": [],
   "source": []
  },
  {
   "cell_type": "markdown",
   "metadata": {
    "colab_type": "text",
    "id": "ycF0FOKYHQjP"
   },
   "source": [
    "# reading data"
   ]
  },
  {
   "cell_type": "code",
   "execution_count": 5,
   "metadata": {
    "colab": {},
    "colab_type": "code",
    "id": "Po3Vi2DiHQjR"
   },
   "outputs": [],
   "source": [
    "train  = pd.read_csv(\"0TwitterDataset250k.csv\")"
   ]
  },
  {
   "cell_type": "code",
   "execution_count": 6,
   "metadata": {
    "colab": {},
    "colab_type": "code",
    "id": "pNoen_wFHQjY",
    "outputId": "994b5c29-1567-4369-fa89-ba6352ea4eb8"
   },
   "outputs": [
    {
     "data": {
      "text/plain": [
       "125000"
      ]
     },
     "execution_count": 6,
     "metadata": {},
     "output_type": "execute_result"
    }
   ],
   "source": [
    "(train[\"Label\"]==0).sum()"
   ]
  },
  {
   "cell_type": "markdown",
   "metadata": {
    "colab_type": "text",
    "id": "4fxyOdeXHQjo"
   },
   "source": [
    "# Removing Twitter Handles (@user)"
   ]
  },
  {
   "cell_type": "code",
   "execution_count": 7,
   "metadata": {
    "colab": {},
    "colab_type": "code",
    "id": "K6Scpp3hHQjp"
   },
   "outputs": [],
   "source": [
    "def remove_pattern(input_txt, pattern):\n",
    "    r = re.findall(pattern, input_txt)\n",
    "    for i in r:\n",
    "        input_txt = re.sub(i, '', input_txt)\n",
    "        \n",
    "    return input_txt \n",
    "# remove twitter handles (@user)\n",
    "train['tidy_tweet'] = np.vectorize(remove_pattern)(train['Tweet'], \"@[\\w]*\")"
   ]
  },
  {
   "cell_type": "code",
   "execution_count": 8,
   "metadata": {
    "colab": {
     "base_uri": "https://localhost:8080/",
     "height": 119
    },
    "colab_type": "code",
    "id": "b8sBKRBzHQjv",
    "outputId": "228fcaff-2b74-4018-e5eb-44ed663ef173"
   },
   "outputs": [
    {
     "data": {
      "text/plain": [
       "0    is upset that he can't update his Facebook by ...\n",
       "1     I dived many times for the ball. Managed to s...\n",
       "2      my whole body feels itchy and like its on fire \n",
       "3     no, it's not behaving at all. i'm mad. why am...\n",
       "4                                  not the whole crew \n",
       "Name: tidy_tweet, dtype: object"
      ]
     },
     "execution_count": 8,
     "metadata": {},
     "output_type": "execute_result"
    }
   ],
   "source": [
    "train['tidy_tweet'].head()"
   ]
  },
  {
   "cell_type": "markdown",
   "metadata": {
    "colab_type": "text",
    "id": "tGZdob0bHQj3"
   },
   "source": [
    "# remove special characters, numbers, punctuations"
   ]
  },
  {
   "cell_type": "code",
   "execution_count": 9,
   "metadata": {
    "colab": {},
    "colab_type": "code",
    "id": "HtVaBCybHQj5"
   },
   "outputs": [],
   "source": [
    "# remove special characters, numbers, punctuations\n",
    "train['tidy_tweet'] = train['tidy_tweet'].str.replace(\"[^a-zA-Z#]\", \" \")"
   ]
  },
  {
   "cell_type": "code",
   "execution_count": 10,
   "metadata": {
    "colab": {},
    "colab_type": "code",
    "id": "0B5KqEwVHQkB"
   },
   "outputs": [],
   "source": [
    "train['tidy_tweet'] = train['tidy_tweet'].apply(lambda x: ' '.join([w for w in x.split() if len(w)>3]))"
   ]
  },
  {
   "cell_type": "markdown",
   "metadata": {
    "colab_type": "text",
    "id": "jpaTgYXyHQkL"
   },
   "source": [
    "# tokenisation "
   ]
  },
  {
   "cell_type": "code",
   "execution_count": 11,
   "metadata": {
    "colab": {
     "base_uri": "https://localhost:8080/",
     "height": 119
    },
    "colab_type": "code",
    "id": "Wjsipt6THQkM",
    "outputId": "57e6e60c-6396-48cf-cf24-104de39a9e22",
    "scrolled": true
   },
   "outputs": [
    {
     "data": {
      "text/plain": [
       "249995                                    [could, probably]\n",
       "249996    [Happy, Mothers, moms, Those, that, have, Moms...\n",
       "249997                [Happy, Mama, GODmothers, gift, Lmao]\n",
       "249998                                       [Happy, Momma]\n",
       "249999    [Outside, vodka, craberry, full, heaven, Imbei...\n",
       "Name: tidy_tweet, dtype: object"
      ]
     },
     "execution_count": 11,
     "metadata": {},
     "output_type": "execute_result"
    }
   ],
   "source": [
    "tokenized_tweet1 = train['tidy_tweet'].apply(lambda x: x.split())\n",
    "tokenized_tweet1.tail()"
   ]
  },
  {
   "cell_type": "markdown",
   "metadata": {
    "colab_type": "text",
    "id": "wP3BAghgHQkT"
   },
   "source": [
    "# stemning"
   ]
  },
  {
   "cell_type": "code",
   "execution_count": 12,
   "metadata": {
    "colab": {
     "base_uri": "https://localhost:8080/",
     "height": 119
    },
    "colab_type": "code",
    "id": "rKqlx4W1HQkU",
    "outputId": "e28856f5-436b-4e53-d27c-3ba01c1b4c59"
   },
   "outputs": [
    {
     "data": {
      "text/plain": [
       "249995                                     [could, probabl]\n",
       "249996    [happi, mother, mom, those, that, have, mom, t...\n",
       "249997                   [happi, mama, godmoth, gift, lmao]\n",
       "249998                                       [happi, momma]\n",
       "249999    [outsid, vodka, craberri, full, heaven, imb, g...\n",
       "Name: tidy_tweet, dtype: object"
      ]
     },
     "execution_count": 12,
     "metadata": {},
     "output_type": "execute_result"
    }
   ],
   "source": [
    "from nltk.stem.porter import *\n",
    "stemmer = PorterStemmer()\n",
    "\n",
    "tokenized_tweet1 = tokenized_tweet1.apply(lambda x: [stemmer.stem(i) for i in x]) # stemming\n",
    "tokenized_tweet1.tail()"
   ]
  },
  {
   "cell_type": "code",
   "execution_count": 13,
   "metadata": {
    "colab": {},
    "colab_type": "code",
    "id": "rdOOe5WPHQkb"
   },
   "outputs": [],
   "source": [
    "for i in range(len(tokenized_tweet1)):\n",
    "    tokenized_tweet1[i] = ' '.join(tokenized_tweet1[i])\n",
    "\n",
    "train['tidy_tweet'] = tokenized_tweet1"
   ]
  },
  {
   "cell_type": "code",
   "execution_count": 14,
   "metadata": {
    "colab": {
     "base_uri": "https://localhost:8080/",
     "height": 204
    },
    "colab_type": "code",
    "id": "pP5ThLkNHQkm",
    "outputId": "305e8ef5-1812-4c16-ca14-154bbbe16135"
   },
   "outputs": [
    {
     "data": {
      "text/html": [
       "<div>\n",
       "<style scoped>\n",
       "    .dataframe tbody tr th:only-of-type {\n",
       "        vertical-align: middle;\n",
       "    }\n",
       "\n",
       "    .dataframe tbody tr th {\n",
       "        vertical-align: top;\n",
       "    }\n",
       "\n",
       "    .dataframe thead th {\n",
       "        text-align: right;\n",
       "    }\n",
       "</style>\n",
       "<table border=\"1\" class=\"dataframe\">\n",
       "  <thead>\n",
       "    <tr style=\"text-align: right;\">\n",
       "      <th></th>\n",
       "      <th>Tweet</th>\n",
       "      <th>Label</th>\n",
       "      <th>tidy_tweet</th>\n",
       "    </tr>\n",
       "  </thead>\n",
       "  <tbody>\n",
       "    <tr>\n",
       "      <th>249995</th>\n",
       "      <td>@JoesGaGirl um.................no.   I could p...</td>\n",
       "      <td>1</td>\n",
       "      <td>could probabl</td>\n",
       "    </tr>\n",
       "    <tr>\n",
       "      <th>249996</th>\n",
       "      <td>Happy Mothers Day to All  the moms and to Thos...</td>\n",
       "      <td>1</td>\n",
       "      <td>happi mother mom those that have mom that mean...</td>\n",
       "    </tr>\n",
       "    <tr>\n",
       "      <th>249997</th>\n",
       "      <td>Happy Mama's Day !  do I get a GODmothers day ...</td>\n",
       "      <td>1</td>\n",
       "      <td>happi mama godmoth gift lmao</td>\n",
       "    </tr>\n",
       "    <tr>\n",
       "      <th>249998</th>\n",
       "      <td>@kissmeandcstars Happy Momma's Day</td>\n",
       "      <td>1</td>\n",
       "      <td>happi momma</td>\n",
       "    </tr>\n",
       "    <tr>\n",
       "      <th>249999</th>\n",
       "      <td>Outside we vodka n craberry full of ice - heav...</td>\n",
       "      <td>1</td>\n",
       "      <td>outsid vodka craberri full heaven imb good rea...</td>\n",
       "    </tr>\n",
       "  </tbody>\n",
       "</table>\n",
       "</div>"
      ],
      "text/plain": [
       "                                                    Tweet  Label  \\\n",
       "249995  @JoesGaGirl um.................no.   I could p...      1   \n",
       "249996  Happy Mothers Day to All  the moms and to Thos...      1   \n",
       "249997  Happy Mama's Day !  do I get a GODmothers day ...      1   \n",
       "249998                @kissmeandcstars Happy Momma's Day       1   \n",
       "249999  Outside we vodka n craberry full of ice - heav...      1   \n",
       "\n",
       "                                               tidy_tweet  \n",
       "249995                                      could probabl  \n",
       "249996  happi mother mom those that have mom that mean...  \n",
       "249997                       happi mama godmoth gift lmao  \n",
       "249998                                        happi momma  \n",
       "249999  outsid vodka craberri full heaven imb good rea...  "
      ]
     },
     "execution_count": 14,
     "metadata": {},
     "output_type": "execute_result"
    }
   ],
   "source": [
    "train.tail()"
   ]
  },
  {
   "cell_type": "markdown",
   "metadata": {
    "colab_type": "text",
    "id": "x5kw43dGHQkt"
   },
   "source": [
    "# TF-IDF Features"
   ]
  },
  {
   "cell_type": "code",
   "execution_count": 15,
   "metadata": {
    "colab": {},
    "colab_type": "code",
    "id": "TOu0BF6_HQkx"
   },
   "outputs": [],
   "source": [
    "X = train['tidy_tweet'] \n",
    "y = train['Label']\n"
   ]
  },
  {
   "cell_type": "code",
   "execution_count": 16,
   "metadata": {
    "colab": {
     "base_uri": "https://localhost:8080/",
     "height": 34
    },
    "colab_type": "code",
    "id": "ujT3hmQjHQk5",
    "outputId": "83c19595-a4da-490f-c393-80b0b0196f82"
   },
   "outputs": [
    {
     "data": {
      "text/plain": [
       "((125000,), (125000,))"
      ]
     },
     "execution_count": 16,
     "metadata": {},
     "output_type": "execute_result"
    }
   ],
   "source": [
    "from sklearn.model_selection import train_test_split\n",
    "X_train, X_val, y_train, y_val = train_test_split(X, y,test_size=0.5,random_state=42)\n",
    "X_train.shape, X_val.shape"
   ]
  },
  {
   "cell_type": "code",
   "execution_count": 17,
   "metadata": {
    "colab": {
     "base_uri": "https://localhost:8080/",
     "height": 221
    },
    "colab_type": "code",
    "id": "6EuIJ3q-HQlB",
    "outputId": "2b3b3009-cd41-464d-f1ce-74556dbd4430"
   },
   "outputs": [
    {
     "data": {
      "text/plain": [
       "38683     0\n",
       "64939     0\n",
       "3954      0\n",
       "120374    0\n",
       "172861    1\n",
       "         ..\n",
       "60372     0\n",
       "182219    1\n",
       "43490     0\n",
       "99683     0\n",
       "221577    1\n",
       "Name: Label, Length: 125000, dtype: int64"
      ]
     },
     "execution_count": 17,
     "metadata": {},
     "output_type": "execute_result"
    }
   ],
   "source": [
    "y_val"
   ]
  },
  {
   "cell_type": "code",
   "execution_count": 18,
   "metadata": {
    "colab": {},
    "colab_type": "code",
    "id": "17Lupjx3HQlL"
   },
   "outputs": [],
   "source": [
    "#Importing TFIDF \n",
    "from sklearn.feature_extraction.text import TfidfVectorizer, CountVectorizer\n",
    "tfidf = TfidfVectorizer(max_df=.90,min_df=3,stop_words='english',max_features=25000)"
   ]
  },
  {
   "cell_type": "code",
   "execution_count": 19,
   "metadata": {
    "colab": {},
    "colab_type": "code",
    "id": "eQxudVahHQlQ"
   },
   "outputs": [],
   "source": [
    "\n",
    "#Fitting TFIDF to both training and test\n",
    "x_train_tfidf =  tfidf.fit_transform(X_train) \n",
    "x_test_tfidf = tfidf.transform(X_val)\n"
   ]
  },
  {
   "cell_type": "code",
   "execution_count": 20,
   "metadata": {
    "colab": {},
    "colab_type": "code",
    "id": "wNrVlM5YHQlY"
   },
   "outputs": [],
   "source": [
    "from sklearn.linear_model import LogisticRegression\n",
    "from sklearn.metrics import f1_score"
   ]
  },
  {
   "cell_type": "code",
   "execution_count": 21,
   "metadata": {
    "colab": {
     "base_uri": "https://localhost:8080/",
     "height": 34
    },
    "colab_type": "code",
    "id": "APRsbDqvHQle",
    "outputId": "19903441-678b-45a7-e278-9b04554627de"
   },
   "outputs": [
    {
     "name": "stdout",
     "output_type": "stream",
     "text": [
      "f1_score 0.7540375670980156\n"
     ]
    }
   ],
   "source": [
    "logis = LogisticRegression(max_iter=1000)\n",
    "logis = logis.fit(x_train_tfidf,y_train)\n",
    "y_pred = logis.predict(x_test_tfidf)\n",
    "logr=f1_score(y_val,y_pred)\n",
    "print(\"f1_score\",logr)"
   ]
  },
  {
   "cell_type": "code",
   "execution_count": 22,
   "metadata": {
    "colab": {
     "base_uri": "https://localhost:8080/",
     "height": 34
    },
    "colab_type": "code",
    "id": "kfWOfNyBHQln",
    "outputId": "56223623-2713-4612-ef7f-932a63f0f15d"
   },
   "outputs": [
    {
     "name": "stdout",
     "output_type": "stream",
     "text": [
      "f1_score 0.7446332702182535\n"
     ]
    }
   ],
   "source": [
    "from sklearn import svm\n",
    "\n",
    "#Create a svm Classifier\n",
    "clf = svm.LinearSVC()\n",
    "clf = clf.fit(x_train_tfidf,y_train)\n",
    "\n",
    "#Predict the response for test dataset\n",
    "y_pred = clf.predict(x_test_tfidf)\n",
    "sv=f1_score(y_val,y_pred)\n",
    "print(\"f1_score\",sv)"
   ]
  },
  {
   "cell_type": "code",
   "execution_count": 23,
   "metadata": {
    "colab": {
     "base_uri": "https://localhost:8080/",
     "height": 34
    },
    "colab_type": "code",
    "id": "kyZTUtyUHQlt",
    "outputId": "8f618597-1668-441f-f045-b2df09836e49"
   },
   "outputs": [
    {
     "name": "stdout",
     "output_type": "stream",
     "text": [
      "F1 score : 0.7137465074100096\n"
     ]
    }
   ],
   "source": [
    "from sklearn.ensemble import RandomForestClassifier\n",
    "rf = RandomForestClassifier(n_estimators=10).fit(x_train_tfidf,y_train) \n",
    "prediction = rf.predict(x_test_tfidf)\n",
    "rft = f1_score(y_val, prediction)\n",
    "print(f\"F1 score : {rft}\")"
   ]
  },
  {
   "cell_type": "code",
   "execution_count": 24,
   "metadata": {
    "colab": {
     "base_uri": "https://localhost:8080/",
     "height": 34
    },
    "colab_type": "code",
    "id": "MLzne-sSHQl0",
    "outputId": "401da799-fc9e-49ab-a93b-dae198e40819"
   },
   "outputs": [
    {
     "name": "stdout",
     "output_type": "stream",
     "text": [
      "f1_score 0.6901286335834542\n"
     ]
    }
   ],
   "source": [
    "from sklearn.tree import DecisionTreeClassifier \n",
    "\n",
    "clf = DecisionTreeClassifier()\n",
    "\n",
    "# Train Decision Tree Classifer\n",
    "clf = clf.fit(x_train_tfidf,y_train)\n",
    "\n",
    "#Predict the response for test dataset\n",
    "y_pred = clf.predict(x_test_tfidf)\n",
    "dt = f1_score(y_val, y_pred)\n",
    "print(\"f1_score\",dt)"
   ]
  },
  {
   "cell_type": "code",
   "execution_count": 25,
   "metadata": {
    "colab": {
     "base_uri": "https://localhost:8080/",
     "height": 34
    },
    "colab_type": "code",
    "id": "J2HO-elOHQl8",
    "outputId": "8b50573f-cf5e-4649-cd00-37e296aa8e01"
   },
   "outputs": [
    {
     "name": "stdout",
     "output_type": "stream",
     "text": [
      "f1_score 0.6777734602681174\n"
     ]
    }
   ],
   "source": [
    "from sklearn.neighbors import KNeighborsClassifier\n",
    "\n",
    "knn = KNeighborsClassifier(3)\n",
    "knn.fit(x_train_tfidf, y_train)\n",
    "\n",
    "y_pred = knn.predict(x_test_tfidf)\n",
    "kn=f1_score(y_val,y_pred)\n",
    "print(\"f1_score\",kn)"
   ]
  },
  {
   "cell_type": "code",
   "execution_count": 26,
   "metadata": {
    "colab": {
     "base_uri": "https://localhost:8080/",
     "height": 34
    },
    "colab_type": "code",
    "id": "gGbwCzQNHQmB",
    "outputId": "f86873f6-0dd0-4b5f-9e06-0812996f575c"
   },
   "outputs": [
    {
     "name": "stdout",
     "output_type": "stream",
     "text": [
      "f1_score : 0.728711719860447\n"
     ]
    }
   ],
   "source": [
    "from sklearn.naive_bayes import MultinomialNB \n",
    "\n",
    "\n",
    "model = MultinomialNB()\n",
    "model.fit(x_train_tfidf, y_train)\n",
    "pred = model.predict((x_test_tfidf))\n",
    "nbf =  f1_score(y_val, pred)\n",
    "print('f1_score :',nbf)"
   ]
  },
  {
   "cell_type": "code",
   "execution_count": null,
   "metadata": {
    "colab": {},
    "colab_type": "code",
    "id": "rE51P0e-HQmL"
   },
   "outputs": [],
   "source": []
  },
  {
   "cell_type": "code",
   "execution_count": 27,
   "metadata": {
    "colab": {
     "base_uri": "https://localhost:8080/",
     "height": 187
    },
    "colab_type": "code",
    "id": "TKBqvvJFHQmT",
    "outputId": "87a2e12c-f5a4-4702-80b8-3338885939c0"
   },
   "outputs": [
    {
     "name": "stdout",
     "output_type": "stream",
     "text": [
      "\n",
      "F1 score of different models \n",
      "\n",
      "                 Models  F1 Score\n",
      "1  Logistic Regression  0.754038\n",
      "2                  SVM  0.744633\n",
      "3        Decision Tree  0.690129\n",
      "4        Random Forest  0.713747\n",
      "5                  KNN  0.677773\n",
      "6          Navie Bayes  0.728712\n"
     ]
    }
   ],
   "source": [
    "d = {'Models':['Logistic Regression','SVM','Decision Tree',\n",
    "               'Random Forest','KNN','Navie Bayes'],\n",
    "     'F1 Score':[logr,sv,dt,rft,kn,nbf]}\n",
    "dff = pd.DataFrame(d ,index=range(1,7))\n",
    "print(\"\\nF1 score of different models \\n\\n\",dff)"
   ]
  },
  {
   "cell_type": "code",
   "execution_count": null,
   "metadata": {},
   "outputs": [],
   "source": []
  }
 ],
 "metadata": {
  "colab": {
   "name": "single models.ipynb",
   "provenance": [],
   "toc_visible": true
  },
  "kernelspec": {
   "display_name": "Python 3",
   "language": "python",
   "name": "python3"
  },
  "language_info": {
   "codemirror_mode": {
    "name": "ipython",
    "version": 3
   },
   "file_extension": ".py",
   "mimetype": "text/x-python",
   "name": "python",
   "nbconvert_exporter": "python",
   "pygments_lexer": "ipython3",
   "version": "3.7.0"
  }
 },
 "nbformat": 4,
 "nbformat_minor": 1
}
