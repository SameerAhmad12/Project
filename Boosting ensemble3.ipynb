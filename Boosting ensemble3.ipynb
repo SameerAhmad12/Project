{
 "cells": [
  {
   "cell_type": "markdown",
   "metadata": {
    "colab_type": "text",
    "id": "omuDTctyKOYJ"
   },
   "source": [
    "# Ensemble learning (sequentail(boosting))"
   ]
  },
  {
   "cell_type": "code",
   "execution_count": 1,
   "metadata": {
    "colab": {
     "base_uri": "https://localhost:8080/",
     "height": 71
    },
    "colab_type": "code",
    "id": "od0FFr6jKOYK",
    "outputId": "a744e2f6-19f2-4b7e-c920-82cfa6f32ef6"
   },
   "outputs": [],
   "source": [
    "import re\n",
    "import pandas as pd \n",
    "import numpy as np \n",
    "import matplotlib.pyplot as plt \n",
    "import seaborn as sns\n",
    "import string\n",
    "from wordcloud import WordCloud\n",
    "import nltk\n",
    "import warnings \n",
    "warnings.filterwarnings(\"ignore\", category=DeprecationWarning)\n",
    "\n",
    "%matplotlib inline"
   ]
  },
  {
   "cell_type": "markdown",
   "metadata": {
    "colab_type": "text",
    "id": "905xCbLQKOYO"
   },
   "source": [
    "# reading data"
   ]
  },
  {
   "cell_type": "code",
   "execution_count": 2,
   "metadata": {
    "colab": {},
    "colab_type": "code",
    "id": "gUZ0xL_pKOYO"
   },
   "outputs": [],
   "source": [
    "train  = pd.read_csv('2TwitterDataset250k.csv')"
   ]
  },
  {
   "cell_type": "code",
   "execution_count": 3,
   "metadata": {
    "colab": {
     "base_uri": "https://localhost:8080/",
     "height": 170
    },
    "colab_type": "code",
    "id": "cU7yMl0QKiEw",
    "outputId": "9328d316-18f2-4054-f715-055b0274132e"
   },
   "outputs": [
    {
     "name": "stdout",
     "output_type": "stream",
     "text": [
      "<class 'pandas.core.frame.DataFrame'>\n",
      "RangeIndex: 250000 entries, 0 to 249999\n",
      "Data columns (total 2 columns):\n",
      " #   Column  Non-Null Count   Dtype \n",
      "---  ------  --------------   ----- \n",
      " 0   Tweet   250000 non-null  object\n",
      " 1   Label   250000 non-null  int64 \n",
      "dtypes: int64(1), object(1)\n",
      "memory usage: 3.8+ MB\n"
     ]
    }
   ],
   "source": [
    "train.info()"
   ]
  },
  {
   "cell_type": "code",
   "execution_count": null,
   "metadata": {
    "colab": {},
    "colab_type": "code",
    "id": "gu-Sa0FIKOYR"
   },
   "outputs": [],
   "source": []
  },
  {
   "cell_type": "markdown",
   "metadata": {
    "colab_type": "text",
    "id": "p9q6pkqKKOYV"
   },
   "source": [
    "# Removing Twitter Handles (@user)"
   ]
  },
  {
   "cell_type": "code",
   "execution_count": 4,
   "metadata": {
    "colab": {},
    "colab_type": "code",
    "id": "8csi2XesKOYX"
   },
   "outputs": [],
   "source": [
    "def remove_pattern(input_txt, pattern):\n",
    "    r = re.findall(pattern, input_txt)\n",
    "    for i in r:\n",
    "        input_txt = re.sub(i, '', input_txt)\n",
    "        \n",
    "    return input_txt \n",
    "# remove twitter handles (@user)\n",
    "train['tidy_tweet'] = np.vectorize(remove_pattern)(train['Tweet'], \"@[\\w]*\")"
   ]
  },
  {
   "cell_type": "code",
   "execution_count": 5,
   "metadata": {
    "colab": {
     "base_uri": "https://localhost:8080/",
     "height": 221
    },
    "colab_type": "code",
    "id": "Iysg15YmKOYZ",
    "outputId": "2baccd07-8cbf-4e83-c122-7541bda3ea49"
   },
   "outputs": [
    {
     "data": {
      "text/plain": [
       "0                        OMH.  I'm so sorry to hear that   \n",
       "1                                   ...i resized it though \n",
       "2         gotta wait till tomorrow to see the new moon t...\n",
       "3         Dumb Fox announcers were saying Jeff was OK an...\n",
       "4         All these BBQ's means I'm basically living on ...\n",
       "                                ...                        \n",
       "249995     seriously! I had more free time when I worked...\n",
       "249996    Maybe if no one bothered revising then that'll...\n",
       "249997                good to know you're feeling better.. \n",
       "249998     it is  #andyhurleyday #andyhurleyday #andyhur...\n",
       "249999    Morning.  Kids slept in Til 7:45am!!  Praise G...\n",
       "Name: tidy_tweet, Length: 250000, dtype: object"
      ]
     },
     "execution_count": 5,
     "metadata": {},
     "output_type": "execute_result"
    }
   ],
   "source": [
    "train['tidy_tweet']"
   ]
  },
  {
   "cell_type": "markdown",
   "metadata": {
    "colab_type": "text",
    "id": "kmWteTAZKOYd"
   },
   "source": [
    "# remove special characters, numbers, punctuations"
   ]
  },
  {
   "cell_type": "code",
   "execution_count": 6,
   "metadata": {
    "colab": {},
    "colab_type": "code",
    "id": "ey-StMsDKOYe"
   },
   "outputs": [],
   "source": [
    "# remove special characters, numbers, punctuations\n",
    "train['tidy_tweet'] = train['tidy_tweet'].str.replace(\"[^a-zA-Z#]\", \" \")"
   ]
  },
  {
   "cell_type": "code",
   "execution_count": 7,
   "metadata": {
    "colab": {},
    "colab_type": "code",
    "id": "9eYq5MHeKOYh"
   },
   "outputs": [],
   "source": [
    "train['tidy_tweet'] = train['tidy_tweet'].apply(lambda x: ' '.join([w for w in x.split() if len(w)>3]))"
   ]
  },
  {
   "cell_type": "markdown",
   "metadata": {
    "colab_type": "text",
    "id": "JtgFpCPfKOYk"
   },
   "source": [
    "# tokenisation "
   ]
  },
  {
   "cell_type": "code",
   "execution_count": 8,
   "metadata": {
    "colab": {
     "base_uri": "https://localhost:8080/",
     "height": 119
    },
    "colab_type": "code",
    "id": "GcsFXhK-KOYl",
    "outputId": "de668f28-00c0-48b0-d873-490cd3b5f861",
    "scrolled": true
   },
   "outputs": [
    {
     "data": {
      "text/plain": [
       "249995    [seriously, more, free, time, when, worked, of...\n",
       "249996        [Maybe, bothered, revising, then, that, help]\n",
       "249997                        [good, know, feeling, better]\n",
       "249998    [#andyhurleyday, #andyhurleyday, #andyhurleyda...\n",
       "249999    [Morning, Kids, slept, Praise, Went, sleep, Ee...\n",
       "Name: tidy_tweet, dtype: object"
      ]
     },
     "execution_count": 8,
     "metadata": {},
     "output_type": "execute_result"
    }
   ],
   "source": [
    "tokenized_tweet1 = train['tidy_tweet'].apply(lambda x: x.split())\n",
    "tokenized_tweet1.tail()"
   ]
  },
  {
   "cell_type": "markdown",
   "metadata": {
    "colab_type": "text",
    "id": "oR-VzjJjKOYp"
   },
   "source": [
    "# stemning"
   ]
  },
  {
   "cell_type": "code",
   "execution_count": 9,
   "metadata": {
    "colab": {
     "base_uri": "https://localhost:8080/",
     "height": 119
    },
    "colab_type": "code",
    "id": "7wcomdt-KOYp",
    "outputId": "fd957649-fcb1-4c02-e9fb-b09ee24c2072"
   },
   "outputs": [
    {
     "data": {
      "text/plain": [
       "249995    [serious, more, free, time, when, work, offic,...\n",
       "249996              [mayb, bother, revis, then, that, help]\n",
       "249997                           [good, know, feel, better]\n",
       "249998    [#andyhurleyday, #andyhurleyday, #andyhurleyda...\n",
       "249999    [morn, kid, slept, prais, went, sleep, eeeek, ...\n",
       "Name: tidy_tweet, dtype: object"
      ]
     },
     "execution_count": 9,
     "metadata": {},
     "output_type": "execute_result"
    }
   ],
   "source": [
    "from nltk.stem.porter import *\n",
    "stemmer = PorterStemmer()\n",
    "\n",
    "tokenized_tweet1 = tokenized_tweet1.apply(lambda x: [stemmer.stem(i) for i in x]) # stemming\n",
    "tokenized_tweet1.tail()"
   ]
  },
  {
   "cell_type": "code",
   "execution_count": 10,
   "metadata": {
    "colab": {},
    "colab_type": "code",
    "id": "2a1kAJAlKOYs"
   },
   "outputs": [],
   "source": [
    "for i in range(len(tokenized_tweet1)):\n",
    "    tokenized_tweet1[i] = ' '.join(tokenized_tweet1[i])\n",
    "\n",
    "train['tidy_tweet'] = tokenized_tweet1"
   ]
  },
  {
   "cell_type": "code",
   "execution_count": 11,
   "metadata": {
    "colab": {
     "base_uri": "https://localhost:8080/",
     "height": 204
    },
    "colab_type": "code",
    "id": "rIKHdZ6oKOYu",
    "outputId": "3ae15d8e-8d8f-4357-a06c-60358d7fc5a2"
   },
   "outputs": [
    {
     "data": {
      "text/html": [
       "<div>\n",
       "<style scoped>\n",
       "    .dataframe tbody tr th:only-of-type {\n",
       "        vertical-align: middle;\n",
       "    }\n",
       "\n",
       "    .dataframe tbody tr th {\n",
       "        vertical-align: top;\n",
       "    }\n",
       "\n",
       "    .dataframe thead th {\n",
       "        text-align: right;\n",
       "    }\n",
       "</style>\n",
       "<table border=\"1\" class=\"dataframe\">\n",
       "  <thead>\n",
       "    <tr style=\"text-align: right;\">\n",
       "      <th></th>\n",
       "      <th>Tweet</th>\n",
       "      <th>Label</th>\n",
       "      <th>tidy_tweet</th>\n",
       "    </tr>\n",
       "  </thead>\n",
       "  <tbody>\n",
       "    <tr>\n",
       "      <th>249995</th>\n",
       "      <td>@MizFitOnline seriously! I had more free time ...</td>\n",
       "      <td>1</td>\n",
       "      <td>serious more free time when work offic week ju...</td>\n",
       "    </tr>\n",
       "    <tr>\n",
       "      <th>249996</th>\n",
       "      <td>Maybe if no one bothered revising then that'll...</td>\n",
       "      <td>1</td>\n",
       "      <td>mayb bother revis then that help</td>\n",
       "    </tr>\n",
       "    <tr>\n",
       "      <th>249997</th>\n",
       "      <td>@missbossy good to know you're feeling better..</td>\n",
       "      <td>1</td>\n",
       "      <td>good know feel better</td>\n",
       "    </tr>\n",
       "    <tr>\n",
       "      <th>249998</th>\n",
       "      <td>@trohman it is  #andyhurleyday #andyhurleyday ...</td>\n",
       "      <td>1</td>\n",
       "      <td>#andyhurleyday #andyhurleyday #andyhurleyday #...</td>\n",
       "    </tr>\n",
       "    <tr>\n",
       "      <th>249999</th>\n",
       "      <td>Morning.  Kids slept in Til 7:45am!!  Praise G...</td>\n",
       "      <td>1</td>\n",
       "      <td>morn kid slept prais went sleep eeeek suuuuper...</td>\n",
       "    </tr>\n",
       "  </tbody>\n",
       "</table>\n",
       "</div>"
      ],
      "text/plain": [
       "                                                    Tweet  Label  \\\n",
       "249995  @MizFitOnline seriously! I had more free time ...      1   \n",
       "249996  Maybe if no one bothered revising then that'll...      1   \n",
       "249997   @missbossy good to know you're feeling better..       1   \n",
       "249998  @trohman it is  #andyhurleyday #andyhurleyday ...      1   \n",
       "249999  Morning.  Kids slept in Til 7:45am!!  Praise G...      1   \n",
       "\n",
       "                                               tidy_tweet  \n",
       "249995  serious more free time when work offic week ju...  \n",
       "249996                   mayb bother revis then that help  \n",
       "249997                              good know feel better  \n",
       "249998  #andyhurleyday #andyhurleyday #andyhurleyday #...  \n",
       "249999  morn kid slept prais went sleep eeeek suuuuper...  "
      ]
     },
     "execution_count": 11,
     "metadata": {},
     "output_type": "execute_result"
    }
   ],
   "source": [
    "train.tail()"
   ]
  },
  {
   "cell_type": "markdown",
   "metadata": {
    "colab_type": "text",
    "id": "msvDu2rDKOZH"
   },
   "source": [
    "# TF-IDF Features"
   ]
  },
  {
   "cell_type": "code",
   "execution_count": 12,
   "metadata": {
    "colab": {},
    "colab_type": "code",
    "id": "GwLf1Ks_KOZH"
   },
   "outputs": [],
   "source": [
    "X = train['tidy_tweet']\n",
    "y = train['Label']"
   ]
  },
  {
   "cell_type": "code",
   "execution_count": null,
   "metadata": {},
   "outputs": [],
   "source": []
  },
  {
   "cell_type": "code",
   "execution_count": 13,
   "metadata": {
    "colab": {},
    "colab_type": "code",
    "id": "wfTF5pc8KOZL"
   },
   "outputs": [],
   "source": [
    "#Importing TFIDF \n",
    "from sklearn.feature_extraction.text import TfidfVectorizer, CountVectorizer\n",
    "tfidf = TfidfVectorizer(max_df=0.90, min_df=3, max_features=25000, stop_words='english')#(min_df=3,  max_features=100, \n",
    "#            strip_accents='unicode', analyzer='word',token_pattern=r'\\w{1,}',\n",
    " #           ngram_range=(1, 4), use_idf=1,smooth_idf=1,sublinear_tf=1,\n",
    "  #          stop_words = 'english')"
   ]
  },
  {
   "cell_type": "code",
   "execution_count": 14,
   "metadata": {
    "colab": {},
    "colab_type": "code",
    "id": "X2fRifEOKOZN"
   },
   "outputs": [],
   "source": [
    "#Fitting TFIDF to both training and test\n",
    "x_train_tfidf =  tfidf.fit_transform(X) \n"
   ]
  },
  {
   "cell_type": "code",
   "execution_count": 15,
   "metadata": {
    "colab": {},
    "colab_type": "code",
    "id": "RR9_bP7tKOZP"
   },
   "outputs": [],
   "source": [
    "from sklearn.tree import DecisionTreeClassifier\n",
    "from sklearn.naive_bayes import MultinomialNB \n",
    "from sklearn.linear_model import LogisticRegression\n",
    "from sklearn.ensemble import RandomForestClassifier \n",
    "from sklearn.neighbors import KNeighborsClassifier\n",
    "from sklearn.svm import LinearSVC\n"
   ]
  },
  {
   "cell_type": "markdown",
   "metadata": {},
   "source": [
    "# Naive Bayes"
   ]
  },
  {
   "cell_type": "code",
   "execution_count": 16,
   "metadata": {
    "colab": {
     "base_uri": "https://localhost:8080/",
     "height": 615
    },
    "colab_type": "code",
    "id": "JYPFD4raKOZS",
    "outputId": "083ca920-c704-4ef9-decf-620658721d0e",
    "scrolled": true
   },
   "outputs": [
    {
     "name": "stdout",
     "output_type": "stream",
     "text": [
      "\n",
      "1 of kfold 10\n",
      "f1_score 0.7026188979677352\n",
      "\n",
      "2 of kfold 10\n",
      "f1_score 0.7043956505310887\n",
      "\n",
      "3 of kfold 10\n",
      "f1_score 0.6972934172191022\n",
      "\n",
      "4 of kfold 10\n",
      "f1_score 0.6966480681293787\n",
      "\n",
      "5 of kfold 10\n",
      "f1_score 0.7002418077211707\n",
      "\n",
      "6 of kfold 10\n",
      "f1_score 0.6960792544706573\n",
      "\n",
      "7 of kfold 10\n",
      "f1_score 0.705094955241362\n",
      "\n",
      "8 of kfold 10\n",
      "f1_score 0.6977078575657616\n",
      "\n",
      "9 of kfold 10\n",
      "f1_score 0.6998150638870209\n",
      "\n",
      "10 of kfold 10\n",
      "f1_score 0.7007096963843278\n",
      "Execution time: 1.2069494485855103 min\n",
      "[0.7026188979677352, 0.7043956505310887, 0.6972934172191022, 0.6966480681293787, 0.7002418077211707, 0.6960792544706573, 0.705094955241362, 0.6977078575657616, 0.6998150638870209, 0.7007096963843278] \n",
      " Max F1-Score 0.705094955241362 \n",
      " Mean F1-Score 0.7000604669117605\n"
     ]
    }
   ],
   "source": [
    "from sklearn.ensemble import AdaBoostClassifier\n",
    "import time\n",
    "from sklearn.model_selection import StratifiedKFold \n",
    "from sklearn.metrics import roc_auc_score, f1_score, confusion_matrix, classification_report\n",
    "start_time = time.time()\n",
    "i=1\n",
    "f1=[]\n",
    "kf = StratifiedKFold(n_splits=10,random_state=42,shuffle=True)\n",
    "for train_index,test_index in kf.split(x_train_tfidf,y):\n",
    "    print('\\n{} of kfold {}'.format(i,kf.n_splits))\n",
    "    xtr,xvl = x_train_tfidf[train_index],x_train_tfidf[test_index]\n",
    "    ytr,yvl = y[train_index],y[test_index]\n",
    "    \n",
    "    model = AdaBoostClassifier(base_estimator=MultinomialNB())\n",
    "\n",
    "    model.fit(xtr, ytr)\n",
    "    pred=model.predict(xvl)\n",
    "    f=f1_score(yvl,pred)\n",
    "    print(\"f1_score\",f)\n",
    "    f1.append(f)\n",
    "   # print('roc_auc_score',roc_auc_score(yvl,pred))\n",
    "    #print('Confusion Matrix \\n',confusion_matrix(yvl,pred))\n",
    "    i+=1\n",
    "\n",
    "print(\"Execution time: \" + str((time.time() - start_time)/60) + ' min')\n",
    "from numpy import mean\n",
    "print(f'{f1} \\n Max F1-Score {max(f1)} \\n Mean F1-Score {mean(f1)}')"
   ]
  },
  {
   "cell_type": "code",
   "execution_count": null,
   "metadata": {},
   "outputs": [],
   "source": []
  },
  {
   "cell_type": "code",
   "execution_count": 1,
   "metadata": {
    "colab": {
     "base_uri": "https://localhost:8080/",
     "height": 54
    },
    "colab_type": "code",
    "id": "wsR6B6i0bUh9",
    "outputId": "828572fc-cdf9-4fef-a2e9-325b482ffac1",
    "scrolled": true
   },
   "outputs": [],
   "source": [
    "import sklearn as s\n",
    "#s.metrics.SCORERS.keys()"
   ]
  },
  {
   "cell_type": "markdown",
   "metadata": {},
   "source": [
    "# Logistic Regression"
   ]
  },
  {
   "cell_type": "code",
   "execution_count": 20,
   "metadata": {
    "colab": {
     "base_uri": "https://localhost:8080/",
     "height": 615
    },
    "colab_type": "code",
    "id": "Laowmfm4NYBC",
    "outputId": "7f4aae13-96c0-4a74-e4f2-14c7cb9462c8"
   },
   "outputs": [
    {
     "name": "stdout",
     "output_type": "stream",
     "text": [
      "\n",
      "1 of kfold 10\n",
      "f1_score 0.6978077571669478\n",
      "\n",
      "2 of kfold 10\n",
      "f1_score 0.7007182087029996\n",
      "\n",
      "3 of kfold 10\n",
      "f1_score 0.693721611410621\n",
      "\n",
      "4 of kfold 10\n",
      "f1_score 0.692129141169023\n",
      "\n",
      "5 of kfold 10\n",
      "f1_score 0.6967612015438832\n",
      "\n",
      "6 of kfold 10\n",
      "f1_score 0.6915895746208761\n",
      "\n",
      "7 of kfold 10\n",
      "f1_score 0.7013906447534766\n",
      "\n",
      "8 of kfold 10\n",
      "f1_score 0.6939279179609378\n",
      "\n",
      "9 of kfold 10\n",
      "f1_score 0.6967365573216097\n",
      "\n",
      "10 of kfold 10\n",
      "f1_score 0.6971462343802769\n",
      "Execution time: 1.6111236174901327 min\n",
      "[0.6978077571669478, 0.7007182087029996, 0.693721611410621, 0.692129141169023, 0.6967612015438832, 0.6915895746208761, 0.7013906447534766, 0.6939279179609378, 0.6967365573216097, 0.6971462343802769] \n",
      " Max F1-Score 0.7013906447534766 \n",
      " Mean F1-Score 0.6961928849030652\n"
     ]
    }
   ],
   "source": [
    "from sklearn.ensemble import AdaBoostClassifier\n",
    "import time\n",
    "from sklearn.model_selection import StratifiedKFold \n",
    "from sklearn.metrics import roc_auc_score, f1_score, confusion_matrix, classification_report\n",
    "start_time = time.time()\n",
    "i=1\n",
    "f1=[]\n",
    "kf = StratifiedKFold(n_splits=10,random_state=42,shuffle=True)\n",
    "for train_index,test_index in kf.split(x_train_tfidf,y):\n",
    "    print('\\n{} of kfold {}'.format(i,kf.n_splits))\n",
    "    xtr,xvl = x_train_tfidf[train_index],x_train_tfidf[test_index]\n",
    "    ytr,yvl = y[train_index],y[test_index]\n",
    "    \n",
    "    model = AdaBoostClassifier(base_estimator=LogisticRegression(max_iter=1000))\n",
    "\n",
    "    model.fit(xtr, ytr)\n",
    "    pred=model.predict(xvl)\n",
    "    f=f1_score(yvl,pred)\n",
    "    print(\"f1_score\",f)\n",
    "    f1.append(f)\n",
    "   # print('roc_auc_score',roc_auc_score(yvl,pred))\n",
    "    #print('Confusion Matrix \\n',confusion_matrix(yvl,pred))\n",
    "    i+=1\n",
    "\n",
    "print(\"Execution time: \" + str((time.time() - start_time)/60) + ' min')\n",
    "from numpy import mean\n",
    "print(f'{f1} \\n Max F1-Score {max(f1)} \\n Mean F1-Score {mean(f1)}')"
   ]
  },
  {
   "cell_type": "markdown",
   "metadata": {},
   "source": [
    "# SVM"
   ]
  },
  {
   "cell_type": "code",
   "execution_count": 19,
   "metadata": {},
   "outputs": [
    {
     "name": "stdout",
     "output_type": "stream",
     "text": [
      "\n",
      "1 of kfold 10\n",
      "f1_score 0.723742061553493\n",
      "\n",
      "2 of kfold 10\n",
      "f1_score 0.7520489392572839\n",
      "\n",
      "3 of kfold 10\n",
      "f1_score 0.7468974784602007\n",
      "\n",
      "4 of kfold 10\n",
      "f1_score 0.7364963503649636\n",
      "\n",
      "5 of kfold 10\n",
      "f1_score 0.7430352774050982\n",
      "\n",
      "6 of kfold 10\n",
      "f1_score 0.7429553539310124\n",
      "\n",
      "7 of kfold 10\n",
      "f1_score 0.7387292166348224\n",
      "\n",
      "8 of kfold 10\n",
      "f1_score 0.7440254287171839\n",
      "\n",
      "9 of kfold 10\n",
      "f1_score 0.7371703997731782\n",
      "\n",
      "10 of kfold 10\n",
      "f1_score 0.7303250288731233\n",
      "Execution time: 3.727829134464264 min\n",
      "[0.723742061553493, 0.7520489392572839, 0.7468974784602007, 0.7364963503649636, 0.7430352774050982, 0.7429553539310124, 0.7387292166348224, 0.7440254287171839, 0.7371703997731782, 0.7303250288731233] \n",
      " Max F1-Score 0.7520489392572839 \n",
      " Mean F1-Score 0.739542553497036\n"
     ]
    }
   ],
   "source": [
    "from sklearn.ensemble import AdaBoostClassifier\n",
    "import time\n",
    "from sklearn.model_selection import StratifiedKFold \n",
    "from sklearn.metrics import roc_auc_score, f1_score, confusion_matrix, classification_report\n",
    "start_time = time.time()\n",
    "i=1\n",
    "f1=[]\n",
    "kf = StratifiedKFold(n_splits=10,random_state=42,shuffle=True)\n",
    "for train_index,test_index in kf.split(x_train_tfidf,y):\n",
    "    print('\\n{} of kfold {}'.format(i,kf.n_splits))\n",
    "    xtr,xvl = x_train_tfidf[train_index],x_train_tfidf[test_index]\n",
    "    ytr,yvl = y[train_index],y[test_index]\n",
    "    \n",
    "    model = AdaBoostClassifier(base_estimator=LinearSVC(),algorithm=\"SAMME\")\n",
    "\n",
    "    model.fit(xtr, ytr)\n",
    "    pred=model.predict(xvl)\n",
    "    f=f1_score(yvl,pred)\n",
    "    print(\"f1_score\",f)\n",
    "    f1.append(f)\n",
    "   # print('roc_auc_score',roc_auc_score(yvl,pred))\n",
    "    #print('Confusion Matrix \\n',confusion_matrix(yvl,pred))\n",
    "    i+=1\n",
    "\n",
    "print(\"Execution time: \" + str((time.time() - start_time)/60) + ' min')\n",
    "from numpy import mean\n",
    "print(f'{f1} \\n Max F1-Score {max(f1)} \\n Mean F1-Score {mean(f1)}')"
   ]
  },
  {
   "cell_type": "markdown",
   "metadata": {},
   "source": [
    "# Decision Tree"
   ]
  },
  {
   "cell_type": "code",
   "execution_count": 16,
   "metadata": {
    "colab": {},
    "colab_type": "code",
    "id": "16aSIMuNKOZW"
   },
   "outputs": [
    {
     "name": "stdout",
     "output_type": "stream",
     "text": [
      "\n",
      "1 of kfold 10\n",
      "f1_score 0.7203163618388533\n",
      "\n",
      "2 of kfold 10\n",
      "f1_score 0.7236549286555832\n",
      "\n",
      "3 of kfold 10\n",
      "f1_score 0.7204078276599244\n",
      "\n",
      "4 of kfold 10\n",
      "f1_score 0.7200554345674124\n",
      "\n",
      "5 of kfold 10\n",
      "f1_score 0.7215701745734293\n",
      "\n",
      "6 of kfold 10\n",
      "f1_score 0.7235718975705844\n",
      "\n",
      "7 of kfold 10\n",
      "f1_score 0.7218437933999073\n",
      "\n",
      "8 of kfold 10\n",
      "f1_score 0.7197101926560183\n",
      "\n",
      "9 of kfold 10\n",
      "f1_score 0.7234112502876681\n",
      "\n",
      "10 of kfold 10\n",
      "f1_score 0.7234424322977238\n",
      "Execution time: 3.806368052959442 min\n",
      "[0.7203163618388533, 0.7236549286555832, 0.7204078276599244, 0.7200554345674124, 0.7215701745734293, 0.7235718975705844, 0.7218437933999073, 0.7197101926560183, 0.7234112502876681, 0.7234424322977238] \n",
      " Max F1-Score 0.7236549286555832 \n",
      " Mean F1-Score 0.7217984293507105\n"
     ]
    }
   ],
   "source": [
    "from sklearn.ensemble import AdaBoostClassifier\n",
    "import time\n",
    "from sklearn.model_selection import StratifiedKFold \n",
    "from sklearn.metrics import roc_auc_score, f1_score, confusion_matrix, classification_report\n",
    "start_time = time.time()\n",
    "i=1\n",
    "f1=[]\n",
    "kf = StratifiedKFold(n_splits=10,random_state=42,shuffle=True)\n",
    "for train_index,test_index in kf.split(x_train_tfidf,y):\n",
    "    print('\\n{} of kfold {}'.format(i,kf.n_splits))\n",
    "    xtr,xvl = x_train_tfidf[train_index],x_train_tfidf[test_index]\n",
    "    ytr,yvl = y[train_index],y[test_index]\n",
    "    \n",
    "    model = AdaBoostClassifier()\n",
    "\n",
    "    model.fit(xtr, ytr)\n",
    "    pred=model.predict(xvl)\n",
    "    f=f1_score(yvl,pred)\n",
    "    print(\"f1_score\",f)\n",
    "    f1.append(f)\n",
    "   # print('roc_auc_score',roc_auc_score(yvl,pred))\n",
    "    #print('Confusion Matrix \\n',confusion_matrix(yvl,pred))\n",
    "    i+=1\n",
    "\n",
    "print(\"Execution time: \" + str((time.time() - start_time)/60) + ' min')\n",
    "from numpy import mean\n",
    "print(f'{f1} \\n Max F1-Score {max(f1)} \\n Mean F1-Score {mean(f1)}')"
   ]
  },
  {
   "cell_type": "markdown",
   "metadata": {},
   "source": [
    "# Random Forest"
   ]
  },
  {
   "cell_type": "code",
   "execution_count": 16,
   "metadata": {
    "colab": {},
    "colab_type": "code",
    "id": "jDoN0T7CKOZY"
   },
   "outputs": [
    {
     "name": "stdout",
     "output_type": "stream",
     "text": [
      "\n",
      "1 of kfold 10\n",
      "f1_score 0.7462298696696461\n",
      "\n",
      "2 of kfold 10\n",
      "f1_score 0.7472205736894163\n",
      "\n",
      "3 of kfold 10\n",
      "f1_score 0.7401437249374676\n",
      "\n",
      "4 of kfold 10\n",
      "f1_score 0.743091417983995\n",
      "\n",
      "5 of kfold 10\n",
      "f1_score 0.7426551453260016\n",
      "\n",
      "6 of kfold 10\n",
      "f1_score 0.746723343960326\n",
      "\n",
      "7 of kfold 10\n",
      "f1_score 0.7429768066695642\n",
      "\n",
      "8 of kfold 10\n",
      "f1_score 0.7417150531263578\n",
      "\n",
      "9 of kfold 10\n",
      "f1_score 0.7441417866063995\n",
      "\n",
      "10 of kfold 10\n",
      "f1_score 0.7473497536945812\n",
      "Execution time: 247.1474783062935 min\n",
      "[0.7462298696696461, 0.7472205736894163, 0.7401437249374676, 0.743091417983995, 0.7426551453260016, 0.746723343960326, 0.7429768066695642, 0.7417150531263578, 0.7441417866063995, 0.7473497536945812] \n",
      " Max F1-Score 0.7473497536945812 \n",
      " Mean F1-Score 0.7442247475663756\n"
     ]
    }
   ],
   "source": [
    "from sklearn.ensemble import AdaBoostClassifier\n",
    "import time\n",
    "from sklearn.model_selection import StratifiedKFold \n",
    "from sklearn.metrics import roc_auc_score, f1_score, confusion_matrix, classification_report\n",
    "start_time = time.time()\n",
    "i=1\n",
    "f1=[]\n",
    "kf = StratifiedKFold(n_splits=10,random_state=42,shuffle=True)\n",
    "for train_index,test_index in kf.split(x_train_tfidf,y):\n",
    "    print('\\n{} of kfold {}'.format(i,kf.n_splits))\n",
    "    xtr,xvl = x_train_tfidf[train_index],x_train_tfidf[test_index]\n",
    "    ytr,yvl = y[train_index],y[test_index]\n",
    "    \n",
    "    model = AdaBoostClassifier(base_estimator=RandomForestClassifier(n_estimators=10),n_estimators=10)\n",
    "\n",
    "    model.fit(xtr, ytr)\n",
    "    pred=model.predict(xvl)\n",
    "    f=f1_score(yvl,pred)\n",
    "    print(\"f1_score\",f)\n",
    "    f1.append(f)\n",
    "   # print('roc_auc_score',roc_auc_score(yvl,pred))\n",
    "    #print('Confusion Matrix \\n',confusion_matrix(yvl,pred))\n",
    "    i+=1\n",
    "\n",
    "print(\"Execution time: \" + str((time.time() - start_time)/60) + ' min')\n",
    "from numpy import mean\n",
    "print(f'{f1} \\n Max F1-Score {max(f1)} \\n Mean F1-Score {mean(f1)}')"
   ]
  },
  {
   "cell_type": "code",
   "execution_count": null,
   "metadata": {
    "colab": {},
    "colab_type": "code",
    "id": "qqxZ3_UeKOZe"
   },
   "outputs": [],
   "source": []
  },
  {
   "cell_type": "code",
   "execution_count": null,
   "metadata": {},
   "outputs": [],
   "source": []
  }
 ],
 "metadata": {
  "colab": {
   "name": "sequentail.1 by default.ipynb",
   "provenance": [],
   "toc_visible": true
  },
  "kernelspec": {
   "display_name": "Python 3",
   "language": "python",
   "name": "python3"
  },
  "language_info": {
   "codemirror_mode": {
    "name": "ipython",
    "version": 3
   },
   "file_extension": ".py",
   "mimetype": "text/x-python",
   "name": "python",
   "nbconvert_exporter": "python",
   "pygments_lexer": "ipython3",
   "version": "3.8.3"
  }
 },
 "nbformat": 4,
 "nbformat_minor": 1
}
