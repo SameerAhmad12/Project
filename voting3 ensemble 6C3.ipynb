{
 "cells": [
  {
   "cell_type": "markdown",
   "metadata": {},
   "source": [
    "# Ensemble learning(voting)"
   ]
  },
  {
   "cell_type": "code",
   "execution_count": 1,
   "metadata": {},
   "outputs": [],
   "source": [
    "import re\n",
    "import pandas as pd \n",
    "import numpy as np \n",
    "import matplotlib.pyplot as plt \n",
    "import seaborn as sns\n",
    "import string\n",
    "import nltk\n",
    "import warnings \n",
    "warnings.filterwarnings(\"ignore\", category=DeprecationWarning)\n",
    "\n",
    "%matplotlib inline"
   ]
  },
  {
   "cell_type": "code",
   "execution_count": 2,
   "metadata": {},
   "outputs": [],
   "source": [
    "import time\n",
    "start = time.time()\n"
   ]
  },
  {
   "cell_type": "markdown",
   "metadata": {},
   "source": [
    "# reading data"
   ]
  },
  {
   "cell_type": "code",
   "execution_count": 3,
   "metadata": {},
   "outputs": [],
   "source": [
    "train  = pd.read_csv('2TwitterDataset250k.csv')"
   ]
  },
  {
   "cell_type": "code",
   "execution_count": 4,
   "metadata": {},
   "outputs": [
    {
     "data": {
      "text/html": [
       "<div>\n",
       "<style scoped>\n",
       "    .dataframe tbody tr th:only-of-type {\n",
       "        vertical-align: middle;\n",
       "    }\n",
       "\n",
       "    .dataframe tbody tr th {\n",
       "        vertical-align: top;\n",
       "    }\n",
       "\n",
       "    .dataframe thead th {\n",
       "        text-align: right;\n",
       "    }\n",
       "</style>\n",
       "<table border=\"1\" class=\"dataframe\">\n",
       "  <thead>\n",
       "    <tr style=\"text-align: right;\">\n",
       "      <th></th>\n",
       "      <th>Tweet</th>\n",
       "      <th>Label</th>\n",
       "    </tr>\n",
       "  </thead>\n",
       "  <tbody>\n",
       "    <tr>\n",
       "      <th>0</th>\n",
       "      <td>@darthrosenburg OMH.  I'm so sorry to hear tha...</td>\n",
       "      <td>0</td>\n",
       "    </tr>\n",
       "    <tr>\n",
       "      <th>1</th>\n",
       "      <td>@helloimmiranda ...i resized it though</td>\n",
       "      <td>0</td>\n",
       "    </tr>\n",
       "    <tr>\n",
       "      <th>2</th>\n",
       "      <td>gotta wait till tomorrow to see the new moon t...</td>\n",
       "      <td>0</td>\n",
       "    </tr>\n",
       "    <tr>\n",
       "      <th>3</th>\n",
       "      <td>Dumb Fox announcers were saying Jeff was OK an...</td>\n",
       "      <td>0</td>\n",
       "    </tr>\n",
       "    <tr>\n",
       "      <th>4</th>\n",
       "      <td>All these BBQ's means I'm basically living on ...</td>\n",
       "      <td>0</td>\n",
       "    </tr>\n",
       "    <tr>\n",
       "      <th>...</th>\n",
       "      <td>...</td>\n",
       "      <td>...</td>\n",
       "    </tr>\n",
       "    <tr>\n",
       "      <th>249995</th>\n",
       "      <td>@MizFitOnline seriously! I had more free time ...</td>\n",
       "      <td>1</td>\n",
       "    </tr>\n",
       "    <tr>\n",
       "      <th>249996</th>\n",
       "      <td>Maybe if no one bothered revising then that'll...</td>\n",
       "      <td>1</td>\n",
       "    </tr>\n",
       "    <tr>\n",
       "      <th>249997</th>\n",
       "      <td>@missbossy good to know you're feeling better..</td>\n",
       "      <td>1</td>\n",
       "    </tr>\n",
       "    <tr>\n",
       "      <th>249998</th>\n",
       "      <td>@trohman it is  #andyhurleyday #andyhurleyday ...</td>\n",
       "      <td>1</td>\n",
       "    </tr>\n",
       "    <tr>\n",
       "      <th>249999</th>\n",
       "      <td>Morning.  Kids slept in Til 7:45am!!  Praise G...</td>\n",
       "      <td>1</td>\n",
       "    </tr>\n",
       "  </tbody>\n",
       "</table>\n",
       "<p>250000 rows × 2 columns</p>\n",
       "</div>"
      ],
      "text/plain": [
       "                                                    Tweet  Label\n",
       "0       @darthrosenburg OMH.  I'm so sorry to hear tha...      0\n",
       "1                 @helloimmiranda ...i resized it though       0\n",
       "2       gotta wait till tomorrow to see the new moon t...      0\n",
       "3       Dumb Fox announcers were saying Jeff was OK an...      0\n",
       "4       All these BBQ's means I'm basically living on ...      0\n",
       "...                                                   ...    ...\n",
       "249995  @MizFitOnline seriously! I had more free time ...      1\n",
       "249996  Maybe if no one bothered revising then that'll...      1\n",
       "249997   @missbossy good to know you're feeling better..       1\n",
       "249998  @trohman it is  #andyhurleyday #andyhurleyday ...      1\n",
       "249999  Morning.  Kids slept in Til 7:45am!!  Praise G...      1\n",
       "\n",
       "[250000 rows x 2 columns]"
      ]
     },
     "execution_count": 4,
     "metadata": {},
     "output_type": "execute_result"
    }
   ],
   "source": [
    "train"
   ]
  },
  {
   "cell_type": "markdown",
   "metadata": {},
   "source": [
    "# Removing Twitter Handles (@user)"
   ]
  },
  {
   "cell_type": "code",
   "execution_count": 5,
   "metadata": {},
   "outputs": [],
   "source": [
    "def remove_pattern(input_txt, pattern):\n",
    "    r = re.findall(pattern, input_txt)\n",
    "    for i in r:\n",
    "        input_txt = re.sub(i, '', input_txt)\n",
    "        \n",
    "    return input_txt \n",
    "# remove twitter handles (@user)\n",
    "train['tidy_tweet'] = np.vectorize(remove_pattern)(train['Tweet'], \"@[\\w]*\")"
   ]
  },
  {
   "cell_type": "code",
   "execution_count": 6,
   "metadata": {},
   "outputs": [
    {
     "data": {
      "text/plain": [
       "0                        OMH.  I'm so sorry to hear that   \n",
       "1                                   ...i resized it though \n",
       "2         gotta wait till tomorrow to see the new moon t...\n",
       "3         Dumb Fox announcers were saying Jeff was OK an...\n",
       "4         All these BBQ's means I'm basically living on ...\n",
       "                                ...                        \n",
       "249995     seriously! I had more free time when I worked...\n",
       "249996    Maybe if no one bothered revising then that'll...\n",
       "249997                good to know you're feeling better.. \n",
       "249998     it is  #andyhurleyday #andyhurleyday #andyhur...\n",
       "249999    Morning.  Kids slept in Til 7:45am!!  Praise G...\n",
       "Name: tidy_tweet, Length: 250000, dtype: object"
      ]
     },
     "execution_count": 6,
     "metadata": {},
     "output_type": "execute_result"
    }
   ],
   "source": [
    "train['tidy_tweet']"
   ]
  },
  {
   "cell_type": "markdown",
   "metadata": {},
   "source": [
    "# remove special characters, numbers, punctuations"
   ]
  },
  {
   "cell_type": "code",
   "execution_count": 7,
   "metadata": {},
   "outputs": [],
   "source": [
    "# remove special characters, numbers, punctuations\n",
    "train['tidy_tweet'] = train['tidy_tweet'].str.replace(\"[^a-zA-Z#]\", \" \")"
   ]
  },
  {
   "cell_type": "code",
   "execution_count": 8,
   "metadata": {},
   "outputs": [],
   "source": [
    "train['tidy_tweet'] = train['tidy_tweet'].apply(lambda x: ' '.join([w for w in x.split() if len(w)>3]))"
   ]
  },
  {
   "cell_type": "markdown",
   "metadata": {},
   "source": [
    "# tokenisation "
   ]
  },
  {
   "cell_type": "code",
   "execution_count": 9,
   "metadata": {
    "scrolled": true
   },
   "outputs": [
    {
     "data": {
      "text/plain": [
       "249995    [seriously, more, free, time, when, worked, of...\n",
       "249996        [Maybe, bothered, revising, then, that, help]\n",
       "249997                        [good, know, feeling, better]\n",
       "249998    [#andyhurleyday, #andyhurleyday, #andyhurleyda...\n",
       "249999    [Morning, Kids, slept, Praise, Went, sleep, Ee...\n",
       "Name: tidy_tweet, dtype: object"
      ]
     },
     "execution_count": 9,
     "metadata": {},
     "output_type": "execute_result"
    }
   ],
   "source": [
    "tokenized_tweet1 = train['tidy_tweet'].apply(lambda x: x.split())\n",
    "tokenized_tweet1.tail()"
   ]
  },
  {
   "cell_type": "markdown",
   "metadata": {},
   "source": [
    "# stemning"
   ]
  },
  {
   "cell_type": "code",
   "execution_count": 10,
   "metadata": {},
   "outputs": [
    {
     "data": {
      "text/plain": [
       "249995    [serious, more, free, time, when, work, offic,...\n",
       "249996              [mayb, bother, revis, then, that, help]\n",
       "249997                           [good, know, feel, better]\n",
       "249998    [#andyhurleyday, #andyhurleyday, #andyhurleyda...\n",
       "249999    [morn, kid, slept, prais, went, sleep, eeeek, ...\n",
       "Name: tidy_tweet, dtype: object"
      ]
     },
     "execution_count": 10,
     "metadata": {},
     "output_type": "execute_result"
    }
   ],
   "source": [
    "from nltk.stem.porter import *\n",
    "stemmer = PorterStemmer()\n",
    "\n",
    "tokenized_tweet1 = tokenized_tweet1.apply(lambda x: [stemmer.stem(i) for i in x]) # stemming\n",
    "tokenized_tweet1.tail()"
   ]
  },
  {
   "cell_type": "code",
   "execution_count": 11,
   "metadata": {},
   "outputs": [],
   "source": [
    "for i in range(len(tokenized_tweet1)):\n",
    "    tokenized_tweet1[i] = ' '.join(tokenized_tweet1[i])\n",
    "\n",
    "train['tidy_tweet'] = tokenized_tweet1"
   ]
  },
  {
   "cell_type": "code",
   "execution_count": 12,
   "metadata": {},
   "outputs": [
    {
     "data": {
      "text/html": [
       "<div>\n",
       "<style scoped>\n",
       "    .dataframe tbody tr th:only-of-type {\n",
       "        vertical-align: middle;\n",
       "    }\n",
       "\n",
       "    .dataframe tbody tr th {\n",
       "        vertical-align: top;\n",
       "    }\n",
       "\n",
       "    .dataframe thead th {\n",
       "        text-align: right;\n",
       "    }\n",
       "</style>\n",
       "<table border=\"1\" class=\"dataframe\">\n",
       "  <thead>\n",
       "    <tr style=\"text-align: right;\">\n",
       "      <th></th>\n",
       "      <th>Tweet</th>\n",
       "      <th>Label</th>\n",
       "      <th>tidy_tweet</th>\n",
       "    </tr>\n",
       "  </thead>\n",
       "  <tbody>\n",
       "    <tr>\n",
       "      <th>249995</th>\n",
       "      <td>@MizFitOnline seriously! I had more free time ...</td>\n",
       "      <td>1</td>\n",
       "      <td>serious more free time when work offic week ju...</td>\n",
       "    </tr>\n",
       "    <tr>\n",
       "      <th>249996</th>\n",
       "      <td>Maybe if no one bothered revising then that'll...</td>\n",
       "      <td>1</td>\n",
       "      <td>mayb bother revis then that help</td>\n",
       "    </tr>\n",
       "    <tr>\n",
       "      <th>249997</th>\n",
       "      <td>@missbossy good to know you're feeling better..</td>\n",
       "      <td>1</td>\n",
       "      <td>good know feel better</td>\n",
       "    </tr>\n",
       "    <tr>\n",
       "      <th>249998</th>\n",
       "      <td>@trohman it is  #andyhurleyday #andyhurleyday ...</td>\n",
       "      <td>1</td>\n",
       "      <td>#andyhurleyday #andyhurleyday #andyhurleyday #...</td>\n",
       "    </tr>\n",
       "    <tr>\n",
       "      <th>249999</th>\n",
       "      <td>Morning.  Kids slept in Til 7:45am!!  Praise G...</td>\n",
       "      <td>1</td>\n",
       "      <td>morn kid slept prais went sleep eeeek suuuuper...</td>\n",
       "    </tr>\n",
       "  </tbody>\n",
       "</table>\n",
       "</div>"
      ],
      "text/plain": [
       "                                                    Tweet  Label  \\\n",
       "249995  @MizFitOnline seriously! I had more free time ...      1   \n",
       "249996  Maybe if no one bothered revising then that'll...      1   \n",
       "249997   @missbossy good to know you're feeling better..       1   \n",
       "249998  @trohman it is  #andyhurleyday #andyhurleyday ...      1   \n",
       "249999  Morning.  Kids slept in Til 7:45am!!  Praise G...      1   \n",
       "\n",
       "                                               tidy_tweet  \n",
       "249995  serious more free time when work offic week ju...  \n",
       "249996                   mayb bother revis then that help  \n",
       "249997                              good know feel better  \n",
       "249998  #andyhurleyday #andyhurleyday #andyhurleyday #...  \n",
       "249999  morn kid slept prais went sleep eeeek suuuuper...  "
      ]
     },
     "execution_count": 12,
     "metadata": {},
     "output_type": "execute_result"
    }
   ],
   "source": [
    "train.tail()"
   ]
  },
  {
   "cell_type": "markdown",
   "metadata": {},
   "source": [
    "# TF-IDF Features"
   ]
  },
  {
   "cell_type": "code",
   "execution_count": 13,
   "metadata": {},
   "outputs": [],
   "source": [
    "X = train['tidy_tweet'] \n",
    "y = train['Label']\n"
   ]
  },
  {
   "cell_type": "code",
   "execution_count": 14,
   "metadata": {},
   "outputs": [],
   "source": [
    "#Importing TFIDF \n",
    "from sklearn.feature_extraction.text import TfidfVectorizer, CountVectorizer\n",
    "tfidf = TfidfVectorizer(max_df=0.90, min_df=3, max_features=25000, stop_words='english')"
   ]
  },
  {
   "cell_type": "code",
   "execution_count": 15,
   "metadata": {},
   "outputs": [],
   "source": [
    "#Fitting TFIDF to both training and test\n",
    "x_train_tfidf =  tfidf.fit_transform(X) \n"
   ]
  },
  {
   "cell_type": "code",
   "execution_count": 16,
   "metadata": {},
   "outputs": [],
   "source": [
    "from sklearn.naive_bayes import MultinomialNB \n",
    "from sklearn.metrics import f1_score"
   ]
  },
  {
   "cell_type": "code",
   "execution_count": 17,
   "metadata": {},
   "outputs": [],
   "source": [
    "from sklearn.model_selection import cross_val_score\n",
    "from sklearn.ensemble import RandomForestClassifier\n",
    "from sklearn.ensemble import VotingClassifier\n",
    "from sklearn.svm import LinearSVC"
   ]
  },
  {
   "cell_type": "code",
   "execution_count": 18,
   "metadata": {},
   "outputs": [],
   "source": [
    "#sklearn.metrics.SCORERS.keys()"
   ]
  },
  {
   "cell_type": "code",
   "execution_count": 19,
   "metadata": {},
   "outputs": [],
   "source": [
    "from sklearn import model_selection\n",
    "from sklearn.linear_model import LogisticRegression ,LinearRegression\n",
    "from sklearn.tree import DecisionTreeClassifier\n",
    "from sklearn.svm import SVC\n",
    "from sklearn.ensemble import VotingClassifier"
   ]
  },
  {
   "cell_type": "code",
   "execution_count": 20,
   "metadata": {},
   "outputs": [],
   "source": [
    "from sklearn.naive_bayes import MultinomialNB \n",
    "from sklearn.neighbors import KNeighborsClassifier"
   ]
  },
  {
   "cell_type": "raw",
   "metadata": {},
   "source": [
    "D = Decision Tree\n",
    "R = Random Forest\n",
    "S = SVM\n",
    "L = Logistic Regression\n",
    "N = Navie Bayes\n",
    "K = KNN\n",
    "when taking 3 models out of 6 at a time ...20 possibilities\n",
    "D,R,S\n",
    "D,R,L\n",
    "D,R,N\n",
    "D,R,K\n",
    "D,S,L\n",
    "D,S,N\n",
    "D,S,K\n",
    "D,L,N\n",
    "D,L,K\n",
    "D,N,K\n",
    "R,S,L\n",
    "R,S,N\n",
    "R,S,K\n",
    "R,L,N\n",
    "R,L,K\n",
    "R,N,K\n",
    "S,L,N\n",
    "S,L,K\n",
    "S,N,K\n",
    "L,N,K\n"
   ]
  },
  {
   "cell_type": "code",
   "execution_count": null,
   "metadata": {},
   "outputs": [],
   "source": []
  },
  {
   "cell_type": "code",
   "execution_count": null,
   "metadata": {},
   "outputs": [],
   "source": []
  },
  {
   "cell_type": "code",
   "execution_count": null,
   "metadata": {},
   "outputs": [],
   "source": []
  },
  {
   "cell_type": "markdown",
   "metadata": {},
   "source": [
    "# D,R,S"
   ]
  },
  {
   "cell_type": "code",
   "execution_count": 21,
   "metadata": {},
   "outputs": [
    {
     "name": "stdout",
     "output_type": "stream",
     "text": [
      "[0.75284261 0.74719551 0.75315054 0.75382945 0.75319927 0.74935029\n",
      " 0.74614114 0.75152052 0.75299646 0.75329491]\n",
      "\n",
      "Maximum f1_Score :0.753829453624412 \n",
      "Mean f1_score:0.7513520695046593\n"
     ]
    }
   ],
   "source": [
    "seed = 7\n",
    "kfold = model_selection.KFold(n_splits=10,shuffle=True,random_state=seed)\n",
    "# create the sub models\n",
    "estimators = []\n",
    "model1 = RandomForestClassifier(n_estimators=10)\n",
    "estimators.append(('Randomforest', model1))\n",
    "model2 = DecisionTreeClassifier()\n",
    "estimators.append(('decision tree', model2))\n",
    "model3 = LinearSVC()\n",
    "estimators.append(('svm', model3))\n",
    "\n",
    "# create the ensemble model\n",
    "ensemble = VotingClassifier(estimators,voting=\"hard\")\n",
    "results = model_selection.cross_val_score(ensemble, x_train_tfidf, y, scoring=\"f1\",cv=kfold)\n",
    "print(f\"{results}\\n\\nMaximum f1_Score :{results.max()} \\nMean f1_score:{results.mean()}\")"
   ]
  },
  {
   "cell_type": "markdown",
   "metadata": {},
   "source": [
    "# D,R,L"
   ]
  },
  {
   "cell_type": "code",
   "execution_count": 22,
   "metadata": {},
   "outputs": [
    {
     "name": "stdout",
     "output_type": "stream",
     "text": [
      "[0.75230018 0.75243243 0.75151466 0.75078509 0.7568383  0.7487767\n",
      " 0.74750231 0.75197421 0.75273628 0.74858985]\n",
      "\n",
      "Maximum f1_Score :0.756838302433602 \n",
      "Mean f1_score:0.751345001884611\n"
     ]
    }
   ],
   "source": [
    "seed = 7\n",
    "kfold = model_selection.KFold(n_splits=10,shuffle=True,random_state=seed)\n",
    "# create the sub models\n",
    "estimators = []\n",
    "model1 = RandomForestClassifier(n_estimators=10)\n",
    "estimators.append(('Randomforest', model1))\n",
    "model2 = DecisionTreeClassifier()\n",
    "estimators.append(('decision tree', model2))\n",
    "model3 = LogisticRegression(max_iter=1000)\n",
    "estimators.append(('Logistic', model3))\n",
    "# create the ensemble model\n",
    "ensemble = VotingClassifier(estimators)\n",
    "results = model_selection.cross_val_score(ensemble, x_train_tfidf, y, scoring=\"f1\",cv=kfold)\n",
    "print(f\"{results}\\n\\nMaximum f1_Score :{results.max()} \\nMean f1_score:{results.mean()}\")"
   ]
  },
  {
   "cell_type": "markdown",
   "metadata": {},
   "source": [
    "# D,R,N"
   ]
  },
  {
   "cell_type": "code",
   "execution_count": 23,
   "metadata": {
    "scrolled": true
   },
   "outputs": [
    {
     "name": "stdout",
     "output_type": "stream",
     "text": [
      "[0.74808915 0.74888415 0.75221024 0.74867436 0.75359081 0.74363505\n",
      " 0.74264498 0.75038421 0.74915744 0.74742394]\n",
      "\n",
      "Maximum f1_Score :0.7535908075327163 \n",
      "Mean f1_score:0.7484694315979908\n"
     ]
    }
   ],
   "source": [
    "seed = 7\n",
    "kfold = model_selection.KFold(n_splits=10,shuffle=True,random_state=seed)\n",
    "# create the sub models\n",
    "estimators = []\n",
    "model1 = RandomForestClassifier(n_estimators=10)\n",
    "estimators.append(('Randomforest', model1))\n",
    "model2 = DecisionTreeClassifier()\n",
    "estimators.append(('decision tree', model2))\n",
    "model3 = MultinomialNB()\n",
    "estimators.append(('navie', model3))\n",
    "# create the ensemble model\n",
    "ensemble = VotingClassifier(estimators)\n",
    "results = model_selection.cross_val_score(ensemble, x_train_tfidf, y, scoring=\"f1\",cv=kfold)\n",
    "print(f\"{results}\\n\\nMaximum f1_Score :{results.max()} \\nMean f1_score:{results.mean()}\")"
   ]
  },
  {
   "cell_type": "markdown",
   "metadata": {},
   "source": [
    "# D,R,K"
   ]
  },
  {
   "cell_type": "code",
   "execution_count": 24,
   "metadata": {},
   "outputs": [
    {
     "name": "stdout",
     "output_type": "stream",
     "text": [
      "[0.71672469 0.71502851 0.71971266 0.71291544 0.72189547 0.71397398\n",
      " 0.70936919 0.71734992 0.71721311 0.7098768 ]\n",
      "\n",
      "Maximum f1_Score :0.7218954657322821 \n",
      "Mean f1_score:0.7154059775640154\n"
     ]
    }
   ],
   "source": [
    "seed = 7\n",
    "kfold = model_selection.KFold(n_splits=10,shuffle=True,random_state=seed)\n",
    "# create the sub models\n",
    "estimators = []\n",
    "model1 = RandomForestClassifier(n_estimators=10)\n",
    "estimators.append(('Randomforest', model1))\n",
    "model2 = DecisionTreeClassifier()\n",
    "estimators.append(('decision tree', model2))\n",
    "model3 = KNeighborsClassifier(n_neighbors=3)\n",
    "estimators.append((\"KNN\",model3))\n",
    "\n",
    "# create the ensemble model\n",
    "ensemble = VotingClassifier(estimators,voting=\"hard\")\n",
    "results = model_selection.cross_val_score(ensemble, x_train_tfidf, y, scoring=\"f1\",cv=kfold)\n",
    "print(f\"{results}\\n\\nMaximum f1_Score :{results.max()} \\nMean f1_score:{results.mean()}\")"
   ]
  },
  {
   "cell_type": "markdown",
   "metadata": {},
   "source": [
    "# D,S,L"
   ]
  },
  {
   "cell_type": "code",
   "execution_count": 25,
   "metadata": {},
   "outputs": [
    {
     "name": "stdout",
     "output_type": "stream",
     "text": [
      "[0.76716267 0.76712007 0.77049632 0.77159037 0.76963046 0.76559957\n",
      " 0.76360218 0.76964132 0.76769333 0.76910403]\n",
      "\n",
      "Maximum f1_Score :0.7715903728173666 \n",
      "Mean f1_score:0.7681640313181355\n"
     ]
    }
   ],
   "source": [
    "seed = 7\n",
    "kfold = model_selection.KFold(n_splits=10,shuffle=True,random_state=seed)\n",
    "# create the sub models\n",
    "estimators = []\n",
    "model1 = LogisticRegression(max_iter=1000)\n",
    "estimators.append(('logistic', model1))\n",
    "model2 = DecisionTreeClassifier()\n",
    "estimators.append(('decision tree', model2))\n",
    "model3 = LinearSVC()\n",
    "estimators.append(('svm', model3))\n",
    "# create the ensemble model\n",
    "ensemble = VotingClassifier(estimators)\n",
    "results = model_selection.cross_val_score(ensemble, x_train_tfidf, y, scoring=\"f1\",cv=kfold)\n",
    "print(f\"{results}\\n\\nMaximum f1_Score :{results.max()} \\nMean f1_score:{results.mean()}\")"
   ]
  },
  {
   "cell_type": "markdown",
   "metadata": {},
   "source": [
    "# D,S,N"
   ]
  },
  {
   "cell_type": "code",
   "execution_count": 27,
   "metadata": {},
   "outputs": [
    {
     "name": "stdout",
     "output_type": "stream",
     "text": [
      "[0.76431122 0.76373844 0.76671301 0.76501865 0.76494024 0.76030857\n",
      " 0.75677812 0.76056896 0.76425646 0.76366082]\n",
      "\n",
      "Maximum f1_Score :0.7667130089374379 \n",
      "Mean f1_score:0.7630294486220341\n"
     ]
    }
   ],
   "source": [
    "seed = 7\n",
    "kfold = model_selection.KFold(n_splits=10,shuffle=True,random_state=seed)\n",
    "# create the sub models\n",
    "estimators = []\n",
    "model1 = DecisionTreeClassifier()\n",
    "estimators.append(('decision tree', model1))\n",
    "model2 = LinearSVC()\n",
    "estimators.append(('svm', model2))\n",
    "model3 = MultinomialNB()\n",
    "estimators.append((\"navie bayes\",model3))\n",
    "# create the ensemble model\n",
    "ensemble = VotingClassifier(estimators)\n",
    "results = model_selection.cross_val_score(ensemble, x_train_tfidf, y, scoring=\"f1\",cv=kfold)\n",
    "print(f\"{results}\\n\\nMaximum f1_Score :{results.max()} \\nMean f1_score:{results.mean()}\")"
   ]
  },
  {
   "cell_type": "markdown",
   "metadata": {},
   "source": [
    "# D,S,K"
   ]
  },
  {
   "cell_type": "code",
   "execution_count": 32,
   "metadata": {},
   "outputs": [
    {
     "name": "stdout",
     "output_type": "stream",
     "text": [
      "[0.7329244  0.72740901 0.73397045 0.72955764 0.73157174 0.72794546\n",
      " 0.71952911 0.73326347 0.72908168 0.72932678]\n",
      "\n",
      "Maximum f1_Score :0.7339704458384204 \n",
      "Mean f1_score:0.7294579738524246\n"
     ]
    }
   ],
   "source": [
    "seed = 7\n",
    "kfold = model_selection.KFold(n_splits=10,shuffle=True,random_state=seed)\n",
    "# create the sub models\n",
    "estimators = []\n",
    "model1 = DecisionTreeClassifier()\n",
    "estimators.append(('decision tree', model1))\n",
    "model2 = LinearSVC()\n",
    "estimators.append(('svm', model2))\n",
    "model3 = KNeighborsClassifier(n_neighbors=3)\n",
    "estimators.append((\"KNN\",model3))\n",
    "# create the ensemble model\n",
    "ensemble = VotingClassifier(estimators)\n",
    "results = model_selection.cross_val_score(ensemble, x_train_tfidf, y, scoring=\"f1\",cv=kfold)\n",
    "print(f\"{results}\\n\\nMaximum f1_Score :{results.max()} \\nMean f1_score:{results.mean()}\")"
   ]
  },
  {
   "cell_type": "markdown",
   "metadata": {},
   "source": [
    "# D,L,N"
   ]
  },
  {
   "cell_type": "code",
   "execution_count": 33,
   "metadata": {},
   "outputs": [
    {
     "name": "stdout",
     "output_type": "stream",
     "text": [
      "[0.76631117 0.76721415 0.76902929 0.76894375 0.76945886 0.76325972\n",
      " 0.75971564 0.76818991 0.76759983 0.76708971]\n",
      "\n",
      "Maximum f1_Score :0.7694588584136397 \n",
      "Mean f1_score:0.7666812027032336\n"
     ]
    }
   ],
   "source": [
    "seed = 7\n",
    "kfold = model_selection.KFold(n_splits=10,shuffle=True,random_state=seed)\n",
    "# create the sub models\n",
    "estimators = []\n",
    "model1 = DecisionTreeClassifier()\n",
    "estimators.append(('decision tree', model1))\n",
    "\n",
    "model2 = LogisticRegression(max_iter=1000)\n",
    "estimators.append(('logistic', model2))\n",
    "\n",
    "model3 = MultinomialNB()\n",
    "estimators.append((\"navie bayes\",model3))\n",
    "# create the ensemble model\n",
    "ensemble = VotingClassifier(estimators)\n",
    "results = model_selection.cross_val_score(ensemble, x_train_tfidf, y, scoring=\"f1\",cv=kfold)\n",
    "print(f\"{results}\\n\\nMaximum f1_Score :{results.max()} \\nMean f1_score:{results.mean()}\")"
   ]
  },
  {
   "cell_type": "markdown",
   "metadata": {},
   "source": [
    "# D,L,K"
   ]
  },
  {
   "cell_type": "code",
   "execution_count": 34,
   "metadata": {},
   "outputs": [
    {
     "name": "stdout",
     "output_type": "stream",
     "text": [
      "[0.7370892  0.73443656 0.74027331 0.7342637  0.73877652 0.73128154\n",
      " 0.72744714 0.74115146 0.73558368 0.73364779]\n",
      "\n",
      "Maximum f1_Score :0.7411514570392296 \n",
      "Mean f1_score:0.7353950893321342\n"
     ]
    }
   ],
   "source": [
    "seed = 7\n",
    "kfold = model_selection.KFold(n_splits=10,shuffle=True,random_state=seed)\n",
    "# create the sub models\n",
    "estimators = []\n",
    "model1 = DecisionTreeClassifier()\n",
    "estimators.append(('decision tree', model1))\n",
    "\n",
    "model2 = LogisticRegression(max_iter=1000)\n",
    "estimators.append(('logistic', model2))\n",
    "\n",
    "model3 = KNeighborsClassifier(n_neighbors=3)\n",
    "estimators.append((\"KNN\",model3))\n",
    "# create the ensemble model\n",
    "ensemble = VotingClassifier(estimators)\n",
    "results = model_selection.cross_val_score(ensemble, x_train_tfidf, y, scoring=\"f1\",cv=kfold)\n",
    "print(f\"{results}\\n\\nMaximum f1_Score :{results.max()} \\nMean f1_score:{results.mean()}\")"
   ]
  },
  {
   "cell_type": "markdown",
   "metadata": {},
   "source": [
    "# D,N,K"
   ]
  },
  {
   "cell_type": "code",
   "execution_count": 35,
   "metadata": {},
   "outputs": [
    {
     "name": "stdout",
     "output_type": "stream",
     "text": [
      "[0.71622201 0.71923209 0.73373132 0.7255374  0.71989752 0.71603243\n",
      " 0.71487919 0.72563896 0.71573082 0.72310942]\n",
      "\n",
      "Maximum f1_Score :0.7337313180066896 \n",
      "Mean f1_score:0.721001115830685\n"
     ]
    }
   ],
   "source": [
    "seed = 7\n",
    "kfold = model_selection.KFold(n_splits=10,shuffle=True,random_state=seed)\n",
    "# create the sub models\n",
    "estimators = []\n",
    "model1 = DecisionTreeClassifier()\n",
    "estimators.append(('decision tree', model1))\n",
    "\n",
    "model3 = MultinomialNB()\n",
    "estimators.append((\"navie bayes\",model3))\n",
    "\n",
    "model3 = KNeighborsClassifier(n_neighbors=3)\n",
    "estimators.append((\"KNN\",model3))\n",
    "# create the ensemble model\n",
    "ensemble = VotingClassifier(estimators)\n",
    "results = model_selection.cross_val_score(ensemble, x_train_tfidf, y, scoring=\"f1\",cv=kfold)\n",
    "print(f\"{results}\\n\\nMaximum f1_Score :{results.max()} \\nMean f1_score:{results.mean()}\")"
   ]
  },
  {
   "cell_type": "markdown",
   "metadata": {},
   "source": [
    "# R,S,L"
   ]
  },
  {
   "cell_type": "code",
   "execution_count": 36,
   "metadata": {},
   "outputs": [
    {
     "name": "stdout",
     "output_type": "stream",
     "text": [
      "[0.76737489 0.76796231 0.77146913 0.77109954 0.77146077 0.76515181\n",
      " 0.76370065 0.76979351 0.76900859 0.77042802]\n",
      "\n",
      "Maximum f1_Score :0.7714691270404542 \n",
      "Mean f1_score:0.7687449212155683\n"
     ]
    }
   ],
   "source": [
    "seed = 7\n",
    "kfold = model_selection.KFold(n_splits=10,shuffle=True,random_state=seed)\n",
    "# create the sub models\n",
    "estimators = []\n",
    "model1 = LogisticRegression(max_iter=1000)\n",
    "estimators.append(('logistic', model1))\n",
    "model2 = RandomForestClassifier(n_estimators=10)\n",
    "estimators.append(('randomForest', model2))\n",
    "model3 = LinearSVC()\n",
    "estimators.append(('svm', model3))\n",
    "# create the ensemble model\n",
    "ensemble = VotingClassifier(estimators)\n",
    "results = model_selection.cross_val_score(ensemble, x_train_tfidf, y, scoring=\"f1\",cv=kfold)\n",
    "print(f\"{results}\\n\\nMaximum f1_Score :{results.max()} \\nMean f1_score:{results.mean()}\")"
   ]
  },
  {
   "cell_type": "markdown",
   "metadata": {},
   "source": [
    "# R,S,N"
   ]
  },
  {
   "cell_type": "code",
   "execution_count": 37,
   "metadata": {},
   "outputs": [
    {
     "name": "stdout",
     "output_type": "stream",
     "text": [
      "[0.76394308 0.76458465 0.76540748 0.76513375 0.76467818 0.76019024\n",
      " 0.75801911 0.76145    0.76588022 0.76370135]\n",
      "\n",
      "Maximum f1_Score :0.7658802177858439 \n",
      "Mean f1_score:0.7632988067923105\n"
     ]
    }
   ],
   "source": [
    "seed = 7\n",
    "kfold = model_selection.KFold(n_splits=10,shuffle=True,random_state=seed)\n",
    "# create the sub models\n",
    "estimators = []\n",
    "\n",
    "model1 = RandomForestClassifier(n_estimators=10)\n",
    "estimators.append(('randomForest', model1))\n",
    "\n",
    "model2 = LinearSVC()\n",
    "estimators.append(('svm', model2))\n",
    "\n",
    "model3 = MultinomialNB()\n",
    "estimators.append((\"navie bayes\",model3))\n",
    "# create the ensemble model\n",
    "ensemble = VotingClassifier(estimators)\n",
    "results = model_selection.cross_val_score(ensemble, x_train_tfidf, y, scoring=\"f1\",cv=kfold)\n",
    "print(f\"{results}\\n\\nMaximum f1_Score :{results.max()} \\nMean f1_score:{results.mean()}\")"
   ]
  },
  {
   "cell_type": "markdown",
   "metadata": {},
   "source": [
    "\n",
    "# R,S,K"
   ]
  },
  {
   "cell_type": "code",
   "execution_count": 38,
   "metadata": {},
   "outputs": [
    {
     "name": "stdout",
     "output_type": "stream",
     "text": [
      "[0.73933649 0.73536045 0.74110605 0.74220226 0.73862504 0.73864959\n",
      " 0.73298605 0.74235551 0.73895414 0.73987323]\n",
      "\n",
      "Maximum f1_Score :0.7423555107526881 \n",
      "Mean f1_score:0.7389448832654875\n"
     ]
    }
   ],
   "source": [
    "seed = 7\n",
    "kfold = model_selection.KFold(n_splits=10,shuffle=True,random_state=seed)\n",
    "# create the sub models\n",
    "estimators = []\n",
    "\n",
    "model1 = RandomForestClassifier(n_estimators=10)\n",
    "estimators.append(('randomForest', model1))\n",
    "\n",
    "model2 = LinearSVC()\n",
    "estimators.append(('svm', model2))\n",
    "\n",
    "model3 = KNeighborsClassifier(n_neighbors=3)\n",
    "estimators.append((\"KNN\",model3))\n",
    "# create the ensemble model\n",
    "ensemble = VotingClassifier(estimators)\n",
    "results = model_selection.cross_val_score(ensemble, x_train_tfidf, y, scoring=\"f1\",cv=kfold)\n",
    "print(f\"{results}\\n\\nMaximum f1_Score :{results.max()} \\nMean f1_score:{results.mean()}\")"
   ]
  },
  {
   "cell_type": "markdown",
   "metadata": {},
   "source": [
    "\n",
    "# R,L,N"
   ]
  },
  {
   "cell_type": "code",
   "execution_count": 21,
   "metadata": {},
   "outputs": [
    {
     "name": "stdout",
     "output_type": "stream",
     "text": [
      "[0.76626544 0.76726221 0.76942675 0.76990341 0.77055023 0.76324061\n",
      " 0.76087129 0.76807169 0.76807253 0.76824919]\n",
      "\n",
      "Maximum f1_Score :0.7705502251811239 \n",
      "Mean f1_score:0.7671913344840444\n"
     ]
    }
   ],
   "source": [
    "seed = 7\n",
    "kfold = model_selection.KFold(n_splits=10,shuffle=True,random_state=seed)\n",
    "# create the sub models\n",
    "estimators = []\n",
    "\n",
    "model1 = RandomForestClassifier(n_estimators=10)\n",
    "estimators.append(('randomForest', model1))\n",
    "\n",
    "model2 = LogisticRegression(max_iter=1000)\n",
    "estimators.append(('logistic', model2))\n",
    "\n",
    "model3 = MultinomialNB()\n",
    "estimators.append((\"navie bayes\",model3))\n",
    "# create the ensemble model\n",
    "ensemble = VotingClassifier(estimators)\n",
    "results = model_selection.cross_val_score(ensemble, x_train_tfidf, y, scoring=\"f1\",cv=kfold)\n",
    "print(f\"{results}\\n\\nMaximum f1_Score :{results.max()} \\nMean f1_score:{results.mean()}\")"
   ]
  },
  {
   "cell_type": "markdown",
   "metadata": {},
   "source": [
    "# R,L,K"
   ]
  },
  {
   "cell_type": "code",
   "execution_count": 21,
   "metadata": {},
   "outputs": [
    {
     "name": "stdout",
     "output_type": "stream",
     "text": [
      "[0.7423164  0.74128547 0.74512261 0.74515039 0.74795612 0.74142426\n",
      " 0.73878518 0.75056105 0.74637861 0.74331997]\n",
      "\n",
      "Maximum f1_Score :0.7505610506192336 \n",
      "Mean f1_score:0.7442300067615955\n"
     ]
    }
   ],
   "source": [
    "seed = 7\n",
    "kfold = model_selection.KFold(n_splits=10,shuffle=True,random_state=seed)\n",
    "# create the sub models\n",
    "estimators = []\n",
    "\n",
    "model1 = RandomForestClassifier(n_estimators=10)\n",
    "estimators.append(('randomForest', model1))\n",
    "\n",
    "model2 = LogisticRegression(max_iter=1000)\n",
    "estimators.append(('logistic', model2))\n",
    "\n",
    "model3 = KNeighborsClassifier(n_neighbors=3)\n",
    "estimators.append((\"KNN\",model3))\n",
    "# create the ensemble model\n",
    "ensemble = VotingClassifier(estimators)\n",
    "results = model_selection.cross_val_score(ensemble, x_train_tfidf, y, scoring=\"f1\",cv=kfold)\n",
    "print(f\"{results}\\n\\nMaximum f1_Score :{results.max()} \\nMean f1_score:{results.mean()}\")"
   ]
  },
  {
   "cell_type": "markdown",
   "metadata": {},
   "source": [
    "# R,N,K"
   ]
  },
  {
   "cell_type": "code",
   "execution_count": 22,
   "metadata": {},
   "outputs": [
    {
     "name": "stdout",
     "output_type": "stream",
     "text": [
      "[0.72573044 0.72950573 0.74046803 0.73751958 0.72992763 0.72527473\n",
      " 0.72754934 0.73673929 0.72689058 0.73479196]\n",
      "\n",
      "Maximum f1_Score :0.7404680292835683 \n",
      "Mean f1_score:0.7314397301058385\n"
     ]
    }
   ],
   "source": [
    "seed = 7\n",
    "kfold = model_selection.KFold(n_splits=10,shuffle=True,random_state=seed)\n",
    "# create the sub models\n",
    "estimators = []\n",
    "\n",
    "model1 = RandomForestClassifier(n_estimators=10)\n",
    "estimators.append(('randomForest', model1))\n",
    "\n",
    "model2 = MultinomialNB()\n",
    "estimators.append((\"navie bayes\",model2))\n",
    "\n",
    "model3 = KNeighborsClassifier(n_neighbors=3)\n",
    "estimators.append((\"KNN\",model3))\n",
    "# create the ensemble model\n",
    "ensemble = VotingClassifier(estimators)\n",
    "results = model_selection.cross_val_score(ensemble, x_train_tfidf, y, scoring=\"f1\",cv=kfold)\n",
    "print(f\"{results}\\n\\nMaximum f1_Score :{results.max()} \\nMean f1_score:{results.mean()}\")"
   ]
  },
  {
   "cell_type": "markdown",
   "metadata": {},
   "source": [
    "# S,L,N"
   ]
  },
  {
   "cell_type": "code",
   "execution_count": 22,
   "metadata": {},
   "outputs": [
    {
     "name": "stdout",
     "output_type": "stream",
     "text": [
      "[0.76484782 0.76655298 0.76711788 0.76854039 0.76671447 0.76242965\n",
      " 0.75997646 0.76472438 0.76640338 0.76657762]\n",
      "\n",
      "Maximum f1_Score :0.7685403873405763 \n",
      "Mean f1_score:0.765388503961175\n"
     ]
    }
   ],
   "source": [
    "seed = 7\n",
    "kfold = model_selection.KFold(n_splits=10,shuffle=True,random_state=seed)\n",
    "# create the sub models\n",
    "estimators = []\n",
    "model1 = LogisticRegression(max_iter=1000)\n",
    "estimators.append(('logistic', model1))\n",
    "\n",
    "model2 = MultinomialNB()\n",
    "estimators.append((\"navie bayes\",model2))\n",
    "\n",
    "model3 = LinearSVC()\n",
    "estimators.append(('svm', model3))\n",
    "# create the ensemble model\n",
    "ensemble = VotingClassifier(estimators)\n",
    "results = model_selection.cross_val_score(ensemble, x_train_tfidf, y, scoring=\"f1\",cv=kfold)\n",
    "print(f\"{results}\\n\\nMaximum f1_Score :{results.max()} \\nMean f1_score:{results.mean()}\")"
   ]
  },
  {
   "cell_type": "markdown",
   "metadata": {},
   "source": [
    "# S,L,K"
   ]
  },
  {
   "cell_type": "code",
   "execution_count": 26,
   "metadata": {},
   "outputs": [
    {
     "name": "stdout",
     "output_type": "stream",
     "text": [
      "[0.76156724 0.76106898 0.76470118 0.76567604 0.76176239 0.76024542\n",
      " 0.75666216 0.76253781 0.76153937 0.76427095]\n",
      "\n",
      "Maximum f1_Score :0.7656760417496613 \n",
      "Mean f1_score:0.7620031541824102\n"
     ]
    }
   ],
   "source": [
    "seed = 7\n",
    "kfold = model_selection.KFold(n_splits=10,shuffle=True,random_state=seed)\n",
    "# create the sub models\n",
    "estimators = []\n",
    "\n",
    "model1 = LinearSVC()\n",
    "estimators.append(('svm', model1))\n",
    "\n",
    "model2 = LogisticRegression(max_iter=1000)\n",
    "estimators.append(('logistic', model2))\n",
    "\n",
    "model3 = KNeighborsClassifier(n_neighbors=3)\n",
    "estimators.append((\"KNN\",model3))\n",
    "\n",
    "# create the ensemble model\n",
    "ensemble = VotingClassifier(estimators)\n",
    "results = model_selection.cross_val_score(ensemble, x_train_tfidf, y, scoring=\"f1\",cv=kfold)\n",
    "print(f\"{results}\\n\\nMaximum f1_Score :{results.max()} \\nMean f1_score:{results.mean()}\")"
   ]
  },
  {
   "cell_type": "markdown",
   "metadata": {},
   "source": [
    "# S,N,K"
   ]
  },
  {
   "cell_type": "code",
   "execution_count": 25,
   "metadata": {},
   "outputs": [
    {
     "name": "stdout",
     "output_type": "stream",
     "text": [
      "[0.74480676 0.74931378 0.75852881 0.75775546 0.74651833 0.74559009\n",
      " 0.74689197 0.75181892 0.74645296 0.75388705]\n",
      "\n",
      "Maximum f1_Score :0.7585288061690016 \n",
      "Mean f1_score:0.7501564125130757\n"
     ]
    }
   ],
   "source": [
    "seed = 7\n",
    "kfold = model_selection.KFold(n_splits=10,shuffle=True,random_state=seed)\n",
    "# create the sub models\n",
    "estimators = []\n",
    "\n",
    "model1 = LinearSVC()\n",
    "estimators.append(('svm', model1))\n",
    "\n",
    "model2 = MultinomialNB()\n",
    "estimators.append((\"navie bayes\",model2))\n",
    "\n",
    "model3 = KNeighborsClassifier(n_neighbors=3)\n",
    "estimators.append((\"KNN\",model3))\n",
    "\n",
    "# create the ensemble model\n",
    "ensemble = VotingClassifier(estimators)\n",
    "results = model_selection.cross_val_score(ensemble, x_train_tfidf, y, scoring=\"f1\",cv=kfold)\n",
    "print(f\"{results}\\n\\nMaximum f1_Score :{results.max()} \\nMean f1_score:{results.mean()}\")"
   ]
  },
  {
   "cell_type": "markdown",
   "metadata": {},
   "source": [
    "# L,N,K"
   ]
  },
  {
   "cell_type": "code",
   "execution_count": 23,
   "metadata": {},
   "outputs": [
    {
     "name": "stdout",
     "output_type": "stream",
     "text": [
      "[0.74689441 0.7541682  0.76172001 0.76081949 0.75249939 0.74806423\n",
      " 0.7521608  0.75656884 0.75014308 0.75679162]\n",
      "\n",
      "Maximum f1_Score :0.7617200129324281 \n",
      "Mean f1_score:0.7539830077131284\n"
     ]
    }
   ],
   "source": [
    "seed = 7\n",
    "kfold = model_selection.KFold(n_splits=10,shuffle=True,random_state=seed)\n",
    "# create the sub models\n",
    "estimators = []\n",
    "\n",
    "model1 = LogisticRegression(max_iter=1000)\n",
    "estimators.append(('logistic', model1))\n",
    "\n",
    "model2 = MultinomialNB()\n",
    "estimators.append((\"navie bayes\",model2))\n",
    "\n",
    "model3 = KNeighborsClassifier(n_neighbors=3)\n",
    "estimators.append((\"KNN\",model3))\n",
    "\n",
    "# create the ensemble model\n",
    "ensemble = VotingClassifier(estimators)\n",
    "results = model_selection.cross_val_score(ensemble, x_train_tfidf, y, scoring=\"f1\",cv=kfold)\n",
    "print(f\"{results}\\n\\nMaximum f1_Score :{results.max()} \\nMean f1_score:{results.mean()}\")"
   ]
  },
  {
   "cell_type": "code",
   "execution_count": 27,
   "metadata": {},
   "outputs": [
    {
     "name": "stdout",
     "output_type": "stream",
     "text": [
      "Runtime of the program is 127.13094227711359 min\n"
     ]
    }
   ],
   "source": [
    "end = time.time()\n",
    "min= (end-start)/60\n",
    "print(f\"Runtime of the program is {min} min\")"
   ]
  },
  {
   "cell_type": "code",
   "execution_count": null,
   "metadata": {},
   "outputs": [],
   "source": []
  }
 ],
 "metadata": {
  "kernelspec": {
   "display_name": "Python 3",
   "language": "python",
   "name": "python3"
  },
  "language_info": {
   "codemirror_mode": {
    "name": "ipython",
    "version": 3
   },
   "file_extension": ".py",
   "mimetype": "text/x-python",
   "name": "python",
   "nbconvert_exporter": "python",
   "pygments_lexer": "ipython3",
   "version": "3.7.0"
  }
 },
 "nbformat": 4,
 "nbformat_minor": 2
}
