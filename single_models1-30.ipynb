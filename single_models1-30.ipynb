{
 "cells": [
  {
   "cell_type": "markdown",
   "metadata": {},
   "source": [
    "# Different machine learning models\n"
   ]
  },
  {
   "cell_type": "code",
   "execution_count": 1,
   "metadata": {},
   "outputs": [],
   "source": [
    "import re\n",
    "import pandas as pd \n",
    "import numpy as np \n",
    "import matplotlib.pyplot as plt \n",
    "import seaborn as sns\n",
    "import string\n",
    "import nltk\n",
    "import warnings \n",
    "warnings.filterwarnings(\"ignore\", category=DeprecationWarning)\n",
    "\n",
    "%matplotlib inline"
   ]
  },
  {
   "cell_type": "markdown",
   "metadata": {},
   "source": [
    "# reading data"
   ]
  },
  {
   "cell_type": "code",
   "execution_count": 2,
   "metadata": {},
   "outputs": [],
   "source": [
    "train  = pd.read_csv(\"0TwitterDataset250k.csv\")"
   ]
  },
  {
   "cell_type": "code",
   "execution_count": 3,
   "metadata": {},
   "outputs": [
    {
     "data": {
      "text/plain": [
       "125000"
      ]
     },
     "execution_count": 3,
     "metadata": {},
     "output_type": "execute_result"
    }
   ],
   "source": [
    "(train[\"Label\"]==0).sum()"
   ]
  },
  {
   "cell_type": "markdown",
   "metadata": {},
   "source": [
    "# Removing Twitter Handles (@user)"
   ]
  },
  {
   "cell_type": "code",
   "execution_count": 4,
   "metadata": {},
   "outputs": [],
   "source": [
    "def remove_pattern(input_txt, pattern):\n",
    "    r = re.findall(pattern, input_txt)\n",
    "    for i in r:\n",
    "        input_txt = re.sub(i, '', input_txt)\n",
    "        \n",
    "    return input_txt \n",
    "# remove twitter handles (@user)\n",
    "train['tidy_tweet'] = np.vectorize(remove_pattern)(train['Tweet'], \"@[\\w]*\")"
   ]
  },
  {
   "cell_type": "code",
   "execution_count": 5,
   "metadata": {},
   "outputs": [
    {
     "data": {
      "text/plain": [
       "0    is upset that he can't update his Facebook by ...\n",
       "1     I dived many times for the ball. Managed to s...\n",
       "2      my whole body feels itchy and like its on fire \n",
       "3     no, it's not behaving at all. i'm mad. why am...\n",
       "4                                  not the whole crew \n",
       "Name: tidy_tweet, dtype: object"
      ]
     },
     "execution_count": 5,
     "metadata": {},
     "output_type": "execute_result"
    }
   ],
   "source": [
    "train['tidy_tweet'].head()"
   ]
  },
  {
   "cell_type": "markdown",
   "metadata": {},
   "source": [
    "# remove special characters, numbers, punctuations"
   ]
  },
  {
   "cell_type": "code",
   "execution_count": 6,
   "metadata": {},
   "outputs": [],
   "source": [
    "# remove special characters, numbers, punctuations\n",
    "train['tidy_tweet'] = train['tidy_tweet'].str.replace(\"[^a-zA-Z#]\", \" \")"
   ]
  },
  {
   "cell_type": "code",
   "execution_count": 7,
   "metadata": {},
   "outputs": [],
   "source": [
    "train['tidy_tweet'] = train['tidy_tweet'].apply(lambda x: ' '.join([w for w in x.split() if len(w)>3]))"
   ]
  },
  {
   "cell_type": "markdown",
   "metadata": {},
   "source": [
    "# tokenisation "
   ]
  },
  {
   "cell_type": "code",
   "execution_count": 8,
   "metadata": {
    "scrolled": true
   },
   "outputs": [
    {
     "data": {
      "text/plain": [
       "249995                                    [could, probably]\n",
       "249996    [Happy, Mothers, moms, Those, that, have, Moms...\n",
       "249997                [Happy, Mama, GODmothers, gift, Lmao]\n",
       "249998                                       [Happy, Momma]\n",
       "249999    [Outside, vodka, craberry, full, heaven, Imbei...\n",
       "Name: tidy_tweet, dtype: object"
      ]
     },
     "execution_count": 8,
     "metadata": {},
     "output_type": "execute_result"
    }
   ],
   "source": [
    "tokenized_tweet1 = train['tidy_tweet'].apply(lambda x: x.split())\n",
    "tokenized_tweet1.tail()"
   ]
  },
  {
   "cell_type": "markdown",
   "metadata": {},
   "source": [
    "# stemning"
   ]
  },
  {
   "cell_type": "code",
   "execution_count": 9,
   "metadata": {},
   "outputs": [
    {
     "data": {
      "text/plain": [
       "249995                                     [could, probabl]\n",
       "249996    [happi, mother, mom, those, that, have, mom, t...\n",
       "249997                   [happi, mama, godmoth, gift, lmao]\n",
       "249998                                       [happi, momma]\n",
       "249999    [outsid, vodka, craberri, full, heaven, imb, g...\n",
       "Name: tidy_tweet, dtype: object"
      ]
     },
     "execution_count": 9,
     "metadata": {},
     "output_type": "execute_result"
    }
   ],
   "source": [
    "from nltk.stem.porter import *\n",
    "stemmer = PorterStemmer()\n",
    "\n",
    "tokenized_tweet1 = tokenized_tweet1.apply(lambda x: [stemmer.stem(i) for i in x]) # stemming\n",
    "tokenized_tweet1.tail()"
   ]
  },
  {
   "cell_type": "code",
   "execution_count": 10,
   "metadata": {},
   "outputs": [],
   "source": [
    "for i in range(len(tokenized_tweet1)):\n",
    "    tokenized_tweet1[i] = ' '.join(tokenized_tweet1[i])\n",
    "\n",
    "train['tidy_tweet'] = tokenized_tweet1"
   ]
  },
  {
   "cell_type": "code",
   "execution_count": 11,
   "metadata": {},
   "outputs": [
    {
     "data": {
      "text/html": [
       "<div>\n",
       "<style scoped>\n",
       "    .dataframe tbody tr th:only-of-type {\n",
       "        vertical-align: middle;\n",
       "    }\n",
       "\n",
       "    .dataframe tbody tr th {\n",
       "        vertical-align: top;\n",
       "    }\n",
       "\n",
       "    .dataframe thead th {\n",
       "        text-align: right;\n",
       "    }\n",
       "</style>\n",
       "<table border=\"1\" class=\"dataframe\">\n",
       "  <thead>\n",
       "    <tr style=\"text-align: right;\">\n",
       "      <th></th>\n",
       "      <th>Tweet</th>\n",
       "      <th>Label</th>\n",
       "      <th>tidy_tweet</th>\n",
       "    </tr>\n",
       "  </thead>\n",
       "  <tbody>\n",
       "    <tr>\n",
       "      <th>249995</th>\n",
       "      <td>@JoesGaGirl um.................no.   I could p...</td>\n",
       "      <td>1</td>\n",
       "      <td>could probabl</td>\n",
       "    </tr>\n",
       "    <tr>\n",
       "      <th>249996</th>\n",
       "      <td>Happy Mothers Day to All  the moms and to Thos...</td>\n",
       "      <td>1</td>\n",
       "      <td>happi mother mom those that have mom that mean...</td>\n",
       "    </tr>\n",
       "    <tr>\n",
       "      <th>249997</th>\n",
       "      <td>Happy Mama's Day !  do I get a GODmothers day ...</td>\n",
       "      <td>1</td>\n",
       "      <td>happi mama godmoth gift lmao</td>\n",
       "    </tr>\n",
       "    <tr>\n",
       "      <th>249998</th>\n",
       "      <td>@kissmeandcstars Happy Momma's Day</td>\n",
       "      <td>1</td>\n",
       "      <td>happi momma</td>\n",
       "    </tr>\n",
       "    <tr>\n",
       "      <th>249999</th>\n",
       "      <td>Outside we vodka n craberry full of ice - heav...</td>\n",
       "      <td>1</td>\n",
       "      <td>outsid vodka craberri full heaven imb good rea...</td>\n",
       "    </tr>\n",
       "  </tbody>\n",
       "</table>\n",
       "</div>"
      ],
      "text/plain": [
       "                                                    Tweet  Label  \\\n",
       "249995  @JoesGaGirl um.................no.   I could p...      1   \n",
       "249996  Happy Mothers Day to All  the moms and to Thos...      1   \n",
       "249997  Happy Mama's Day !  do I get a GODmothers day ...      1   \n",
       "249998                @kissmeandcstars Happy Momma's Day       1   \n",
       "249999  Outside we vodka n craberry full of ice - heav...      1   \n",
       "\n",
       "                                               tidy_tweet  \n",
       "249995                                      could probabl  \n",
       "249996  happi mother mom those that have mom that mean...  \n",
       "249997                       happi mama godmoth gift lmao  \n",
       "249998                                        happi momma  \n",
       "249999  outsid vodka craberri full heaven imb good rea...  "
      ]
     },
     "execution_count": 11,
     "metadata": {},
     "output_type": "execute_result"
    }
   ],
   "source": [
    "train.tail()"
   ]
  },
  {
   "cell_type": "markdown",
   "metadata": {},
   "source": [
    "# TF-IDF Features"
   ]
  },
  {
   "cell_type": "code",
   "execution_count": 12,
   "metadata": {},
   "outputs": [],
   "source": [
    "X = train['tidy_tweet'] \n",
    "y = train['Label']\n"
   ]
  },
  {
   "cell_type": "code",
   "execution_count": 13,
   "metadata": {},
   "outputs": [
    {
     "data": {
      "text/plain": [
       "((175000,), (75000,))"
      ]
     },
     "execution_count": 13,
     "metadata": {},
     "output_type": "execute_result"
    }
   ],
   "source": [
    "from sklearn.model_selection import train_test_split\n",
    "X_train, X_val, y_train, y_val = train_test_split(X, y,test_size=0.3,random_state=42)\n",
    "X_train.shape, X_val.shape"
   ]
  },
  {
   "cell_type": "code",
   "execution_count": 14,
   "metadata": {},
   "outputs": [
    {
     "data": {
      "text/plain": [
       "38683     0\n",
       "64939     0\n",
       "3954      0\n",
       "120374    0\n",
       "172861    1\n",
       "         ..\n",
       "246904    1\n",
       "213577    1\n",
       "175132    1\n",
       "75216     0\n",
       "145446    1\n",
       "Name: Label, Length: 75000, dtype: int64"
      ]
     },
     "execution_count": 14,
     "metadata": {},
     "output_type": "execute_result"
    }
   ],
   "source": [
    "y_val"
   ]
  },
  {
   "cell_type": "code",
   "execution_count": 15,
   "metadata": {},
   "outputs": [],
   "source": [
    "#Importing TFIDF \n",
    "from sklearn.feature_extraction.text import TfidfVectorizer, CountVectorizer\n",
    "tfidf = TfidfVectorizer(max_df=.90,min_df=3,stop_words='english',max_features=25000)"
   ]
  },
  {
   "cell_type": "code",
   "execution_count": 16,
   "metadata": {},
   "outputs": [],
   "source": [
    "\n",
    "#Fitting TFIDF to both training and test\n",
    "x_train_tfidf =  tfidf.fit_transform(X_train) \n",
    "x_test_tfidf = tfidf.transform(X_val)\n"
   ]
  },
  {
   "cell_type": "code",
   "execution_count": 17,
   "metadata": {},
   "outputs": [],
   "source": [
    "from sklearn.linear_model import LogisticRegression\n",
    "from sklearn.metrics import f1_score"
   ]
  },
  {
   "cell_type": "code",
   "execution_count": 22,
   "metadata": {},
   "outputs": [
    {
     "name": "stdout",
     "output_type": "stream",
     "text": [
      "f1_score 0.755291332231921\n"
     ]
    }
   ],
   "source": [
    "logis = LogisticRegression(max_iter=1000)\n",
    "logis = logis.fit(x_train_tfidf,y_train)\n",
    "y_pred = logis.predict(x_test_tfidf)\n",
    "logr=f1_score(y_val,y_pred)\n",
    "print(\"f1_score\",logr)"
   ]
  },
  {
   "cell_type": "code",
   "execution_count": 23,
   "metadata": {},
   "outputs": [
    {
     "name": "stdout",
     "output_type": "stream",
     "text": [
      "f1_score 0.7479124938220221\n"
     ]
    }
   ],
   "source": [
    "from sklearn import svm\n",
    "\n",
    "#Create a svm Classifier\n",
    "clf = svm.LinearSVC()\n",
    "clf = clf.fit(x_train_tfidf,y_train)\n",
    "\n",
    "#Predict the response for test dataset\n",
    "y_pred = clf.predict(x_test_tfidf)\n",
    "sv=f1_score(y_val,y_pred)\n",
    "print(\"f1_score\",sv)"
   ]
  },
  {
   "cell_type": "code",
   "execution_count": 18,
   "metadata": {},
   "outputs": [
    {
     "name": "stdout",
     "output_type": "stream",
     "text": [
      "F1 score : 0.7187885525263342\n"
     ]
    }
   ],
   "source": [
    "from sklearn.ensemble import RandomForestClassifier\n",
    "rf = RandomForestClassifier(n_estimators=10).fit(x_train_tfidf,y_train) \n",
    "prediction = rf.predict(x_test_tfidf)\n",
    "rft = f1_score(y_val, prediction)\n",
    "print(f\"F1 score : {rft}\")"
   ]
  },
  {
   "cell_type": "code",
   "execution_count": 19,
   "metadata": {},
   "outputs": [
    {
     "name": "stdout",
     "output_type": "stream",
     "text": [
      "f1_score 0.691085368592072\n"
     ]
    }
   ],
   "source": [
    "from sklearn.tree import DecisionTreeClassifier \n",
    "\n",
    "clf = DecisionTreeClassifier()\n",
    "\n",
    "# Train Decision Tree Classifer\n",
    "clf = clf.fit(x_train_tfidf,y_train)\n",
    "\n",
    "#Predict the response for test dataset\n",
    "y_pred = clf.predict(x_test_tfidf)\n",
    "dt = f1_score(y_val, y_pred)\n",
    "print(\"f1_score\",dt)"
   ]
  },
  {
   "cell_type": "code",
   "execution_count": 20,
   "metadata": {},
   "outputs": [
    {
     "name": "stdout",
     "output_type": "stream",
     "text": [
      "f1_score 0.6825229192881539\n"
     ]
    }
   ],
   "source": [
    "from sklearn.neighbors import KNeighborsClassifier\n",
    "\n",
    "knn = KNeighborsClassifier(3)\n",
    "knn.fit(x_train_tfidf, y_train)\n",
    "\n",
    "y_pred = knn.predict(x_test_tfidf)\n",
    "kn=f1_score(y_val,y_pred)\n",
    "print(\"f1_score\",kn)"
   ]
  },
  {
   "cell_type": "code",
   "execution_count": 21,
   "metadata": {},
   "outputs": [
    {
     "name": "stdout",
     "output_type": "stream",
     "text": [
      "f1_score : 0.7318991877365735\n"
     ]
    }
   ],
   "source": [
    "from sklearn.naive_bayes import MultinomialNB \n",
    "\n",
    "\n",
    "model = MultinomialNB()\n",
    "model.fit(x_train_tfidf, y_train)\n",
    "pred = model.predict((x_test_tfidf))\n",
    "nbf =  f1_score(y_val, pred)\n",
    "print('f1_score :',nbf)"
   ]
  },
  {
   "cell_type": "code",
   "execution_count": null,
   "metadata": {},
   "outputs": [],
   "source": []
  },
  {
   "cell_type": "code",
   "execution_count": 24,
   "metadata": {},
   "outputs": [
    {
     "name": "stdout",
     "output_type": "stream",
     "text": [
      "\n",
      "F1 score of different models \n",
      "\n",
      "                 Models  F1 Score\n",
      "1  Logistic Regression  0.755291\n",
      "2                  SVM  0.747912\n",
      "3        Decision Tree  0.691085\n",
      "4        Random Forest  0.718789\n",
      "5                  KNN  0.682523\n",
      "6          Navie Bayes  0.731899\n"
     ]
    }
   ],
   "source": [
    "d = {'Models':['Logistic Regression','SVM','Decision Tree',\n",
    "               'Random Forest','KNN','Navie Bayes'],\n",
    "     'F1 Score':[logr,sv,dt,rft,kn,nbf]}\n",
    "dff = pd.DataFrame(d ,index=range(1,7))\n",
    "print(\"\\nF1 score of different models \\n\\n\",dff)"
   ]
  },
  {
   "cell_type": "code",
   "execution_count": null,
   "metadata": {},
   "outputs": [],
   "source": []
  }
 ],
 "metadata": {
  "kernelspec": {
   "display_name": "Python 3",
   "language": "python",
   "name": "python3"
  },
  "language_info": {
   "codemirror_mode": {
    "name": "ipython",
    "version": 3
   },
   "file_extension": ".py",
   "mimetype": "text/x-python",
   "name": "python",
   "nbconvert_exporter": "python",
   "pygments_lexer": "ipython3",
   "version": "3.7.0"
  }
 },
 "nbformat": 4,
 "nbformat_minor": 2
}
